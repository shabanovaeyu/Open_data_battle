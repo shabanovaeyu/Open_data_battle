{
 "cells": [
  {
   "cell_type": "markdown",
   "source": [
    "# OPEN DATA BATTLE: **ПРОГНОЗИРОВАНИЕ ОШИБОК МОДЕЛИ**"
   ],
   "metadata": {}
  },
  {
   "cell_type": "markdown",
   "source": [
    "---\r\n",
    "## Содержание"
   ],
   "metadata": {}
  },
  {
   "cell_type": "markdown",
   "source": [
    "* [Импорт модулей и функций](#Импорт-модулей-и-функций)\r\n",
    "* [Подготовка данных: обработка пропусков, стандартизация](#Подготовка_данных:_обработка_пропусков,_стандартизация])\r\n",
    "* [Задача классификации](#Задача_классификации)\r\n",
    "* [Задача регрессии](#Задача_регрессии)\r\n",
    "* [Объединение двух прогнозов](#Объединение_двух_прогнозов)\r\n",
    "---"
   ],
   "metadata": {}
  },
  {
   "cell_type": "markdown",
   "source": [
    "## Импорт модулей и функций"
   ],
   "metadata": {}
  },
  {
   "cell_type": "code",
   "execution_count": 1,
   "source": [
    "import random\r\n",
    "import numpy as np\r\n",
    "import pandas as pd\r\n",
    "\r\n",
    "from imblearn.over_sampling import SMOTE\r\n",
    "from sklearn.model_selection import train_test_split\r\n",
    "from sklearn.preprocessing import MinMaxScaler\r\n",
    "\r\n",
    "from sklearn.pipeline import Pipeline\r\n",
    "from sklearn.ensemble import RandomForestClassifier\r\n",
    "from sklearn.ensemble import RandomForestRegressor\r\n",
    "from sklearn.feature_selection import SelectKBest, chi2\r\n",
    "\r\n",
    "from sklearn.metrics import mean_absolute_error as mae\r\n",
    "from sklearn.metrics import accuracy_score, f1_score, recall_score, precision_score"
   ],
   "outputs": [],
   "metadata": {
    "code_folding": []
   }
  },
  {
   "cell_type": "markdown",
   "source": [
    "## Подготовка данных: обработка пропусков, стандартизация\r\n",
    "\r\n",
    "**data** – исходные данные: 1898 признаков и поле *flg_90_12_add (0, 1)* - целевое для модели банка  \r\n",
    "**model** - спрогнозированные моделью банка вероятности дефолта (flg_90_12_add=1) для примеров в *data*  "
   ],
   "metadata": {}
  },
  {
   "cell_type": "code",
   "execution_count": 5,
   "source": [
    "data = pd.read_csv('_data/data.csv', sep=',')\r\n",
    "model = pd.read_csv('_data/model.csv', sep=',')\r\n",
    "\r\n",
    "data = pd.merge(data, model, on='incident') # добавление поля PD (probability of default)\r\n",
    "data['ERROR'] = abs(data['PD']-data['flg_90_12_add']) # расчет ERROR (целевое поле задачи)"
   ],
   "outputs": [],
   "metadata": {
    "code_folding": []
   }
  },
  {
   "cell_type": "markdown",
   "source": [
    "**realtest** – примеры с пропусками в целевом классе (примеры для сабмита)    \r\n",
    "**data** - примеры для обучения и валидации модели прогнозирования ошибок модели банка"
   ],
   "metadata": {}
  },
  {
   "cell_type": "code",
   "execution_count": 11,
   "source": [
    "realtest = data[data['flg_90_12_add'].isnull()]  # submit-set\r\n",
    "data = data[data['flg_90_12_add'].notnull()]  # train-set\r\n",
    "\r\n",
    "print(f'train-set: {data.shape[0]} примеров')\r\n",
    "print(f'submit-set: {realtest.shape[0]} примеров',)"
   ],
   "outputs": [
    {
     "output_type": "stream",
     "name": "stdout",
     "text": [
      "train-set: 81617 примеров\n",
      "submit-set: 1000 примеров\n"
     ]
    }
   ],
   "metadata": {}
  },
  {
   "cell_type": "code",
   "execution_count": 29,
   "source": [
    "# Наблюдается сильная разбалансировка классов\r\n",
    "data['flg_90_12_add'].plot.hist(alpha=0.6)"
   ],
   "outputs": [
    {
     "output_type": "execute_result",
     "data": {
      "text/plain": [
       "<AxesSubplot:ylabel='Frequency'>"
      ]
     },
     "metadata": {},
     "execution_count": 29
    },
    {
     "output_type": "display_data",
     "data": {
      "text/plain": [
       "<Figure size 432x288 with 1 Axes>"
      ],
      "image/svg+xml": "<?xml version=\"1.0\" encoding=\"utf-8\" standalone=\"no\"?>\r\n<!DOCTYPE svg PUBLIC \"-//W3C//DTD SVG 1.1//EN\"\r\n  \"http://www.w3.org/Graphics/SVG/1.1/DTD/svg11.dtd\">\r\n<svg height=\"248.518125pt\" version=\"1.1\" viewBox=\"0 0 401.690625 248.518125\" width=\"401.690625pt\" xmlns=\"http://www.w3.org/2000/svg\" xmlns:xlink=\"http://www.w3.org/1999/xlink\">\r\n <metadata>\r\n  <rdf:RDF xmlns:cc=\"http://creativecommons.org/ns#\" xmlns:dc=\"http://purl.org/dc/elements/1.1/\" xmlns:rdf=\"http://www.w3.org/1999/02/22-rdf-syntax-ns#\">\r\n   <cc:Work>\r\n    <dc:type rdf:resource=\"http://purl.org/dc/dcmitype/StillImage\"/>\r\n    <dc:date>2021-11-09T12:23:14.347945</dc:date>\r\n    <dc:format>image/svg+xml</dc:format>\r\n    <dc:creator>\r\n     <cc:Agent>\r\n      <dc:title>Matplotlib v3.4.3, https://matplotlib.org/</dc:title>\r\n     </cc:Agent>\r\n    </dc:creator>\r\n   </cc:Work>\r\n  </rdf:RDF>\r\n </metadata>\r\n <defs>\r\n  <style type=\"text/css\">*{stroke-linecap:butt;stroke-linejoin:round;}</style>\r\n </defs>\r\n <g id=\"figure_1\">\r\n  <g id=\"patch_1\">\r\n   <path d=\"M 0 248.518125 \r\nL 401.690625 248.518125 \r\nL 401.690625 0 \r\nL 0 0 \r\nz\r\n\" style=\"fill:none;\"/>\r\n  </g>\r\n  <g id=\"axes_1\">\r\n   <g id=\"patch_2\">\r\n    <path d=\"M 59.690625 224.64 \r\nL 394.490625 224.64 \r\nL 394.490625 7.2 \r\nL 59.690625 7.2 \r\nz\r\n\" style=\"fill:#ffffff;\"/>\r\n   </g>\r\n   <g id=\"patch_3\">\r\n    <path clip-path=\"url(#p308ad78bcd)\" d=\"M 74.908807 224.64 \r\nL 105.34517 224.64 \r\nL 105.34517 17.554286 \r\nL 74.908807 17.554286 \r\nz\r\n\" style=\"fill:#1f77b4;opacity:0.6;\"/>\r\n   </g>\r\n   <g id=\"patch_4\">\r\n    <path clip-path=\"url(#p308ad78bcd)\" d=\"M 105.34517 224.64 \r\nL 135.781534 224.64 \r\nL 135.781534 224.64 \r\nL 105.34517 224.64 \r\nz\r\n\" style=\"fill:#1f77b4;opacity:0.6;\"/>\r\n   </g>\r\n   <g id=\"patch_5\">\r\n    <path clip-path=\"url(#p308ad78bcd)\" d=\"M 135.781534 224.64 \r\nL 166.217898 224.64 \r\nL 166.217898 224.64 \r\nL 135.781534 224.64 \r\nz\r\n\" style=\"fill:#1f77b4;opacity:0.6;\"/>\r\n   </g>\r\n   <g id=\"patch_6\">\r\n    <path clip-path=\"url(#p308ad78bcd)\" d=\"M 166.217898 224.64 \r\nL 196.654261 224.64 \r\nL 196.654261 224.64 \r\nL 166.217898 224.64 \r\nz\r\n\" style=\"fill:#1f77b4;opacity:0.6;\"/>\r\n   </g>\r\n   <g id=\"patch_7\">\r\n    <path clip-path=\"url(#p308ad78bcd)\" d=\"M 196.654261 224.64 \r\nL 227.090625 224.64 \r\nL 227.090625 224.64 \r\nL 196.654261 224.64 \r\nz\r\n\" style=\"fill:#1f77b4;opacity:0.6;\"/>\r\n   </g>\r\n   <g id=\"patch_8\">\r\n    <path clip-path=\"url(#p308ad78bcd)\" d=\"M 227.090625 224.64 \r\nL 257.526989 224.64 \r\nL 257.526989 224.64 \r\nL 227.090625 224.64 \r\nz\r\n\" style=\"fill:#1f77b4;opacity:0.6;\"/>\r\n   </g>\r\n   <g id=\"patch_9\">\r\n    <path clip-path=\"url(#p308ad78bcd)\" d=\"M 257.526989 224.64 \r\nL 287.963352 224.64 \r\nL 287.963352 224.64 \r\nL 257.526989 224.64 \r\nz\r\n\" style=\"fill:#1f77b4;opacity:0.6;\"/>\r\n   </g>\r\n   <g id=\"patch_10\">\r\n    <path clip-path=\"url(#p308ad78bcd)\" d=\"M 287.963352 224.64 \r\nL 318.399716 224.64 \r\nL 318.399716 224.64 \r\nL 287.963352 224.64 \r\nz\r\n\" style=\"fill:#1f77b4;opacity:0.6;\"/>\r\n   </g>\r\n   <g id=\"patch_11\">\r\n    <path clip-path=\"url(#p308ad78bcd)\" d=\"M 318.399716 224.64 \r\nL 348.83608 224.64 \r\nL 348.83608 224.64 \r\nL 318.399716 224.64 \r\nz\r\n\" style=\"fill:#1f77b4;opacity:0.6;\"/>\r\n   </g>\r\n   <g id=\"patch_12\">\r\n    <path clip-path=\"url(#p308ad78bcd)\" d=\"M 348.83608 224.64 \r\nL 379.272443 224.64 \r\nL 379.272443 213.878002 \r\nL 348.83608 213.878002 \r\nz\r\n\" style=\"fill:#1f77b4;opacity:0.6;\"/>\r\n   </g>\r\n   <g id=\"matplotlib.axis_1\">\r\n    <g id=\"xtick_1\">\r\n     <g id=\"line2d_1\">\r\n      <defs>\r\n       <path d=\"M 0 0 \r\nL 0 3.5 \r\n\" id=\"m11af977b46\" style=\"stroke:#000000;stroke-width:0.8;\"/>\r\n      </defs>\r\n      <g>\r\n       <use style=\"stroke:#000000;stroke-width:0.8;\" x=\"74.908807\" xlink:href=\"#m11af977b46\" y=\"224.64\"/>\r\n      </g>\r\n     </g>\r\n     <g id=\"text_1\">\r\n      <!-- 0.0 -->\r\n      <g transform=\"translate(66.957244 239.238437)scale(0.1 -0.1)\">\r\n       <defs>\r\n        <path d=\"M 2034 4250 \r\nQ 1547 4250 1301 3770 \r\nQ 1056 3291 1056 2328 \r\nQ 1056 1369 1301 889 \r\nQ 1547 409 2034 409 \r\nQ 2525 409 2770 889 \r\nQ 3016 1369 3016 2328 \r\nQ 3016 3291 2770 3770 \r\nQ 2525 4250 2034 4250 \r\nz\r\nM 2034 4750 \r\nQ 2819 4750 3233 4129 \r\nQ 3647 3509 3647 2328 \r\nQ 3647 1150 3233 529 \r\nQ 2819 -91 2034 -91 \r\nQ 1250 -91 836 529 \r\nQ 422 1150 422 2328 \r\nQ 422 3509 836 4129 \r\nQ 1250 4750 2034 4750 \r\nz\r\n\" id=\"DejaVuSans-30\" transform=\"scale(0.015625)\"/>\r\n        <path d=\"M 684 794 \r\nL 1344 794 \r\nL 1344 0 \r\nL 684 0 \r\nL 684 794 \r\nz\r\n\" id=\"DejaVuSans-2e\" transform=\"scale(0.015625)\"/>\r\n       </defs>\r\n       <use xlink:href=\"#DejaVuSans-30\"/>\r\n       <use x=\"63.623047\" xlink:href=\"#DejaVuSans-2e\"/>\r\n       <use x=\"95.410156\" xlink:href=\"#DejaVuSans-30\"/>\r\n      </g>\r\n     </g>\r\n    </g>\r\n    <g id=\"xtick_2\">\r\n     <g id=\"line2d_2\">\r\n      <g>\r\n       <use style=\"stroke:#000000;stroke-width:0.8;\" x=\"135.781534\" xlink:href=\"#m11af977b46\" y=\"224.64\"/>\r\n      </g>\r\n     </g>\r\n     <g id=\"text_2\">\r\n      <!-- 0.2 -->\r\n      <g transform=\"translate(127.829972 239.238437)scale(0.1 -0.1)\">\r\n       <defs>\r\n        <path d=\"M 1228 531 \r\nL 3431 531 \r\nL 3431 0 \r\nL 469 0 \r\nL 469 531 \r\nQ 828 903 1448 1529 \r\nQ 2069 2156 2228 2338 \r\nQ 2531 2678 2651 2914 \r\nQ 2772 3150 2772 3378 \r\nQ 2772 3750 2511 3984 \r\nQ 2250 4219 1831 4219 \r\nQ 1534 4219 1204 4116 \r\nQ 875 4013 500 3803 \r\nL 500 4441 \r\nQ 881 4594 1212 4672 \r\nQ 1544 4750 1819 4750 \r\nQ 2544 4750 2975 4387 \r\nQ 3406 4025 3406 3419 \r\nQ 3406 3131 3298 2873 \r\nQ 3191 2616 2906 2266 \r\nQ 2828 2175 2409 1742 \r\nQ 1991 1309 1228 531 \r\nz\r\n\" id=\"DejaVuSans-32\" transform=\"scale(0.015625)\"/>\r\n       </defs>\r\n       <use xlink:href=\"#DejaVuSans-30\"/>\r\n       <use x=\"63.623047\" xlink:href=\"#DejaVuSans-2e\"/>\r\n       <use x=\"95.410156\" xlink:href=\"#DejaVuSans-32\"/>\r\n      </g>\r\n     </g>\r\n    </g>\r\n    <g id=\"xtick_3\">\r\n     <g id=\"line2d_3\">\r\n      <g>\r\n       <use style=\"stroke:#000000;stroke-width:0.8;\" x=\"196.654261\" xlink:href=\"#m11af977b46\" y=\"224.64\"/>\r\n      </g>\r\n     </g>\r\n     <g id=\"text_3\">\r\n      <!-- 0.4 -->\r\n      <g transform=\"translate(188.702699 239.238437)scale(0.1 -0.1)\">\r\n       <defs>\r\n        <path d=\"M 2419 4116 \r\nL 825 1625 \r\nL 2419 1625 \r\nL 2419 4116 \r\nz\r\nM 2253 4666 \r\nL 3047 4666 \r\nL 3047 1625 \r\nL 3713 1625 \r\nL 3713 1100 \r\nL 3047 1100 \r\nL 3047 0 \r\nL 2419 0 \r\nL 2419 1100 \r\nL 313 1100 \r\nL 313 1709 \r\nL 2253 4666 \r\nz\r\n\" id=\"DejaVuSans-34\" transform=\"scale(0.015625)\"/>\r\n       </defs>\r\n       <use xlink:href=\"#DejaVuSans-30\"/>\r\n       <use x=\"63.623047\" xlink:href=\"#DejaVuSans-2e\"/>\r\n       <use x=\"95.410156\" xlink:href=\"#DejaVuSans-34\"/>\r\n      </g>\r\n     </g>\r\n    </g>\r\n    <g id=\"xtick_4\">\r\n     <g id=\"line2d_4\">\r\n      <g>\r\n       <use style=\"stroke:#000000;stroke-width:0.8;\" x=\"257.526989\" xlink:href=\"#m11af977b46\" y=\"224.64\"/>\r\n      </g>\r\n     </g>\r\n     <g id=\"text_4\">\r\n      <!-- 0.6 -->\r\n      <g transform=\"translate(249.575426 239.238437)scale(0.1 -0.1)\">\r\n       <defs>\r\n        <path d=\"M 2113 2584 \r\nQ 1688 2584 1439 2293 \r\nQ 1191 2003 1191 1497 \r\nQ 1191 994 1439 701 \r\nQ 1688 409 2113 409 \r\nQ 2538 409 2786 701 \r\nQ 3034 994 3034 1497 \r\nQ 3034 2003 2786 2293 \r\nQ 2538 2584 2113 2584 \r\nz\r\nM 3366 4563 \r\nL 3366 3988 \r\nQ 3128 4100 2886 4159 \r\nQ 2644 4219 2406 4219 \r\nQ 1781 4219 1451 3797 \r\nQ 1122 3375 1075 2522 \r\nQ 1259 2794 1537 2939 \r\nQ 1816 3084 2150 3084 \r\nQ 2853 3084 3261 2657 \r\nQ 3669 2231 3669 1497 \r\nQ 3669 778 3244 343 \r\nQ 2819 -91 2113 -91 \r\nQ 1303 -91 875 529 \r\nQ 447 1150 447 2328 \r\nQ 447 3434 972 4092 \r\nQ 1497 4750 2381 4750 \r\nQ 2619 4750 2861 4703 \r\nQ 3103 4656 3366 4563 \r\nz\r\n\" id=\"DejaVuSans-36\" transform=\"scale(0.015625)\"/>\r\n       </defs>\r\n       <use xlink:href=\"#DejaVuSans-30\"/>\r\n       <use x=\"63.623047\" xlink:href=\"#DejaVuSans-2e\"/>\r\n       <use x=\"95.410156\" xlink:href=\"#DejaVuSans-36\"/>\r\n      </g>\r\n     </g>\r\n    </g>\r\n    <g id=\"xtick_5\">\r\n     <g id=\"line2d_5\">\r\n      <g>\r\n       <use style=\"stroke:#000000;stroke-width:0.8;\" x=\"318.399716\" xlink:href=\"#m11af977b46\" y=\"224.64\"/>\r\n      </g>\r\n     </g>\r\n     <g id=\"text_5\">\r\n      <!-- 0.8 -->\r\n      <g transform=\"translate(310.448153 239.238437)scale(0.1 -0.1)\">\r\n       <defs>\r\n        <path d=\"M 2034 2216 \r\nQ 1584 2216 1326 1975 \r\nQ 1069 1734 1069 1313 \r\nQ 1069 891 1326 650 \r\nQ 1584 409 2034 409 \r\nQ 2484 409 2743 651 \r\nQ 3003 894 3003 1313 \r\nQ 3003 1734 2745 1975 \r\nQ 2488 2216 2034 2216 \r\nz\r\nM 1403 2484 \r\nQ 997 2584 770 2862 \r\nQ 544 3141 544 3541 \r\nQ 544 4100 942 4425 \r\nQ 1341 4750 2034 4750 \r\nQ 2731 4750 3128 4425 \r\nQ 3525 4100 3525 3541 \r\nQ 3525 3141 3298 2862 \r\nQ 3072 2584 2669 2484 \r\nQ 3125 2378 3379 2068 \r\nQ 3634 1759 3634 1313 \r\nQ 3634 634 3220 271 \r\nQ 2806 -91 2034 -91 \r\nQ 1263 -91 848 271 \r\nQ 434 634 434 1313 \r\nQ 434 1759 690 2068 \r\nQ 947 2378 1403 2484 \r\nz\r\nM 1172 3481 \r\nQ 1172 3119 1398 2916 \r\nQ 1625 2713 2034 2713 \r\nQ 2441 2713 2670 2916 \r\nQ 2900 3119 2900 3481 \r\nQ 2900 3844 2670 4047 \r\nQ 2441 4250 2034 4250 \r\nQ 1625 4250 1398 4047 \r\nQ 1172 3844 1172 3481 \r\nz\r\n\" id=\"DejaVuSans-38\" transform=\"scale(0.015625)\"/>\r\n       </defs>\r\n       <use xlink:href=\"#DejaVuSans-30\"/>\r\n       <use x=\"63.623047\" xlink:href=\"#DejaVuSans-2e\"/>\r\n       <use x=\"95.410156\" xlink:href=\"#DejaVuSans-38\"/>\r\n      </g>\r\n     </g>\r\n    </g>\r\n    <g id=\"xtick_6\">\r\n     <g id=\"line2d_6\">\r\n      <g>\r\n       <use style=\"stroke:#000000;stroke-width:0.8;\" x=\"379.272443\" xlink:href=\"#m11af977b46\" y=\"224.64\"/>\r\n      </g>\r\n     </g>\r\n     <g id=\"text_6\">\r\n      <!-- 1.0 -->\r\n      <g transform=\"translate(371.320881 239.238437)scale(0.1 -0.1)\">\r\n       <defs>\r\n        <path d=\"M 794 531 \r\nL 1825 531 \r\nL 1825 4091 \r\nL 703 3866 \r\nL 703 4441 \r\nL 1819 4666 \r\nL 2450 4666 \r\nL 2450 531 \r\nL 3481 531 \r\nL 3481 0 \r\nL 794 0 \r\nL 794 531 \r\nz\r\n\" id=\"DejaVuSans-31\" transform=\"scale(0.015625)\"/>\r\n       </defs>\r\n       <use xlink:href=\"#DejaVuSans-31\"/>\r\n       <use x=\"63.623047\" xlink:href=\"#DejaVuSans-2e\"/>\r\n       <use x=\"95.410156\" xlink:href=\"#DejaVuSans-30\"/>\r\n      </g>\r\n     </g>\r\n    </g>\r\n   </g>\r\n   <g id=\"matplotlib.axis_2\">\r\n    <g id=\"ytick_1\">\r\n     <g id=\"line2d_7\">\r\n      <defs>\r\n       <path d=\"M 0 0 \r\nL -3.5 0 \r\n\" id=\"mbbc356f0f3\" style=\"stroke:#000000;stroke-width:0.8;\"/>\r\n      </defs>\r\n      <g>\r\n       <use style=\"stroke:#000000;stroke-width:0.8;\" x=\"59.690625\" xlink:href=\"#mbbc356f0f3\" y=\"224.64\"/>\r\n      </g>\r\n     </g>\r\n     <g id=\"text_7\">\r\n      <!-- 0 -->\r\n      <g transform=\"translate(46.328125 228.439219)scale(0.1 -0.1)\">\r\n       <use xlink:href=\"#DejaVuSans-30\"/>\r\n      </g>\r\n     </g>\r\n    </g>\r\n    <g id=\"ytick_2\">\r\n     <g id=\"line2d_8\">\r\n      <g>\r\n       <use style=\"stroke:#000000;stroke-width:0.8;\" x=\"59.690625\" xlink:href=\"#mbbc356f0f3\" y=\"197.948537\"/>\r\n      </g>\r\n     </g>\r\n     <g id=\"text_8\">\r\n      <!-- 10000 -->\r\n      <g transform=\"translate(20.878125 201.747756)scale(0.1 -0.1)\">\r\n       <use xlink:href=\"#DejaVuSans-31\"/>\r\n       <use x=\"63.623047\" xlink:href=\"#DejaVuSans-30\"/>\r\n       <use x=\"127.246094\" xlink:href=\"#DejaVuSans-30\"/>\r\n       <use x=\"190.869141\" xlink:href=\"#DejaVuSans-30\"/>\r\n       <use x=\"254.492188\" xlink:href=\"#DejaVuSans-30\"/>\r\n      </g>\r\n     </g>\r\n    </g>\r\n    <g id=\"ytick_3\">\r\n     <g id=\"line2d_9\">\r\n      <g>\r\n       <use style=\"stroke:#000000;stroke-width:0.8;\" x=\"59.690625\" xlink:href=\"#mbbc356f0f3\" y=\"171.257074\"/>\r\n      </g>\r\n     </g>\r\n     <g id=\"text_9\">\r\n      <!-- 20000 -->\r\n      <g transform=\"translate(20.878125 175.056293)scale(0.1 -0.1)\">\r\n       <use xlink:href=\"#DejaVuSans-32\"/>\r\n       <use x=\"63.623047\" xlink:href=\"#DejaVuSans-30\"/>\r\n       <use x=\"127.246094\" xlink:href=\"#DejaVuSans-30\"/>\r\n       <use x=\"190.869141\" xlink:href=\"#DejaVuSans-30\"/>\r\n       <use x=\"254.492188\" xlink:href=\"#DejaVuSans-30\"/>\r\n      </g>\r\n     </g>\r\n    </g>\r\n    <g id=\"ytick_4\">\r\n     <g id=\"line2d_10\">\r\n      <g>\r\n       <use style=\"stroke:#000000;stroke-width:0.8;\" x=\"59.690625\" xlink:href=\"#mbbc356f0f3\" y=\"144.565612\"/>\r\n      </g>\r\n     </g>\r\n     <g id=\"text_10\">\r\n      <!-- 30000 -->\r\n      <g transform=\"translate(20.878125 148.36483)scale(0.1 -0.1)\">\r\n       <defs>\r\n        <path d=\"M 2597 2516 \r\nQ 3050 2419 3304 2112 \r\nQ 3559 1806 3559 1356 \r\nQ 3559 666 3084 287 \r\nQ 2609 -91 1734 -91 \r\nQ 1441 -91 1130 -33 \r\nQ 819 25 488 141 \r\nL 488 750 \r\nQ 750 597 1062 519 \r\nQ 1375 441 1716 441 \r\nQ 2309 441 2620 675 \r\nQ 2931 909 2931 1356 \r\nQ 2931 1769 2642 2001 \r\nQ 2353 2234 1838 2234 \r\nL 1294 2234 \r\nL 1294 2753 \r\nL 1863 2753 \r\nQ 2328 2753 2575 2939 \r\nQ 2822 3125 2822 3475 \r\nQ 2822 3834 2567 4026 \r\nQ 2313 4219 1838 4219 \r\nQ 1578 4219 1281 4162 \r\nQ 984 4106 628 3988 \r\nL 628 4550 \r\nQ 988 4650 1302 4700 \r\nQ 1616 4750 1894 4750 \r\nQ 2613 4750 3031 4423 \r\nQ 3450 4097 3450 3541 \r\nQ 3450 3153 3228 2886 \r\nQ 3006 2619 2597 2516 \r\nz\r\n\" id=\"DejaVuSans-33\" transform=\"scale(0.015625)\"/>\r\n       </defs>\r\n       <use xlink:href=\"#DejaVuSans-33\"/>\r\n       <use x=\"63.623047\" xlink:href=\"#DejaVuSans-30\"/>\r\n       <use x=\"127.246094\" xlink:href=\"#DejaVuSans-30\"/>\r\n       <use x=\"190.869141\" xlink:href=\"#DejaVuSans-30\"/>\r\n       <use x=\"254.492188\" xlink:href=\"#DejaVuSans-30\"/>\r\n      </g>\r\n     </g>\r\n    </g>\r\n    <g id=\"ytick_5\">\r\n     <g id=\"line2d_11\">\r\n      <g>\r\n       <use style=\"stroke:#000000;stroke-width:0.8;\" x=\"59.690625\" xlink:href=\"#mbbc356f0f3\" y=\"117.874149\"/>\r\n      </g>\r\n     </g>\r\n     <g id=\"text_11\">\r\n      <!-- 40000 -->\r\n      <g transform=\"translate(20.878125 121.673367)scale(0.1 -0.1)\">\r\n       <use xlink:href=\"#DejaVuSans-34\"/>\r\n       <use x=\"63.623047\" xlink:href=\"#DejaVuSans-30\"/>\r\n       <use x=\"127.246094\" xlink:href=\"#DejaVuSans-30\"/>\r\n       <use x=\"190.869141\" xlink:href=\"#DejaVuSans-30\"/>\r\n       <use x=\"254.492188\" xlink:href=\"#DejaVuSans-30\"/>\r\n      </g>\r\n     </g>\r\n    </g>\r\n    <g id=\"ytick_6\">\r\n     <g id=\"line2d_12\">\r\n      <g>\r\n       <use style=\"stroke:#000000;stroke-width:0.8;\" x=\"59.690625\" xlink:href=\"#mbbc356f0f3\" y=\"91.182686\"/>\r\n      </g>\r\n     </g>\r\n     <g id=\"text_12\">\r\n      <!-- 50000 -->\r\n      <g transform=\"translate(20.878125 94.981905)scale(0.1 -0.1)\">\r\n       <defs>\r\n        <path d=\"M 691 4666 \r\nL 3169 4666 \r\nL 3169 4134 \r\nL 1269 4134 \r\nL 1269 2991 \r\nQ 1406 3038 1543 3061 \r\nQ 1681 3084 1819 3084 \r\nQ 2600 3084 3056 2656 \r\nQ 3513 2228 3513 1497 \r\nQ 3513 744 3044 326 \r\nQ 2575 -91 1722 -91 \r\nQ 1428 -91 1123 -41 \r\nQ 819 9 494 109 \r\nL 494 744 \r\nQ 775 591 1075 516 \r\nQ 1375 441 1709 441 \r\nQ 2250 441 2565 725 \r\nQ 2881 1009 2881 1497 \r\nQ 2881 1984 2565 2268 \r\nQ 2250 2553 1709 2553 \r\nQ 1456 2553 1204 2497 \r\nQ 953 2441 691 2322 \r\nL 691 4666 \r\nz\r\n\" id=\"DejaVuSans-35\" transform=\"scale(0.015625)\"/>\r\n       </defs>\r\n       <use xlink:href=\"#DejaVuSans-35\"/>\r\n       <use x=\"63.623047\" xlink:href=\"#DejaVuSans-30\"/>\r\n       <use x=\"127.246094\" xlink:href=\"#DejaVuSans-30\"/>\r\n       <use x=\"190.869141\" xlink:href=\"#DejaVuSans-30\"/>\r\n       <use x=\"254.492188\" xlink:href=\"#DejaVuSans-30\"/>\r\n      </g>\r\n     </g>\r\n    </g>\r\n    <g id=\"ytick_7\">\r\n     <g id=\"line2d_13\">\r\n      <g>\r\n       <use style=\"stroke:#000000;stroke-width:0.8;\" x=\"59.690625\" xlink:href=\"#mbbc356f0f3\" y=\"64.491223\"/>\r\n      </g>\r\n     </g>\r\n     <g id=\"text_13\">\r\n      <!-- 60000 -->\r\n      <g transform=\"translate(20.878125 68.290442)scale(0.1 -0.1)\">\r\n       <use xlink:href=\"#DejaVuSans-36\"/>\r\n       <use x=\"63.623047\" xlink:href=\"#DejaVuSans-30\"/>\r\n       <use x=\"127.246094\" xlink:href=\"#DejaVuSans-30\"/>\r\n       <use x=\"190.869141\" xlink:href=\"#DejaVuSans-30\"/>\r\n       <use x=\"254.492188\" xlink:href=\"#DejaVuSans-30\"/>\r\n      </g>\r\n     </g>\r\n    </g>\r\n    <g id=\"ytick_8\">\r\n     <g id=\"line2d_14\">\r\n      <g>\r\n       <use style=\"stroke:#000000;stroke-width:0.8;\" x=\"59.690625\" xlink:href=\"#mbbc356f0f3\" y=\"37.79976\"/>\r\n      </g>\r\n     </g>\r\n     <g id=\"text_14\">\r\n      <!-- 70000 -->\r\n      <g transform=\"translate(20.878125 41.598979)scale(0.1 -0.1)\">\r\n       <defs>\r\n        <path d=\"M 525 4666 \r\nL 3525 4666 \r\nL 3525 4397 \r\nL 1831 0 \r\nL 1172 0 \r\nL 2766 4134 \r\nL 525 4134 \r\nL 525 4666 \r\nz\r\n\" id=\"DejaVuSans-37\" transform=\"scale(0.015625)\"/>\r\n       </defs>\r\n       <use xlink:href=\"#DejaVuSans-37\"/>\r\n       <use x=\"63.623047\" xlink:href=\"#DejaVuSans-30\"/>\r\n       <use x=\"127.246094\" xlink:href=\"#DejaVuSans-30\"/>\r\n       <use x=\"190.869141\" xlink:href=\"#DejaVuSans-30\"/>\r\n       <use x=\"254.492188\" xlink:href=\"#DejaVuSans-30\"/>\r\n      </g>\r\n     </g>\r\n    </g>\r\n    <g id=\"ytick_9\">\r\n     <g id=\"line2d_15\">\r\n      <g>\r\n       <use style=\"stroke:#000000;stroke-width:0.8;\" x=\"59.690625\" xlink:href=\"#mbbc356f0f3\" y=\"11.108297\"/>\r\n      </g>\r\n     </g>\r\n     <g id=\"text_15\">\r\n      <!-- 80000 -->\r\n      <g transform=\"translate(20.878125 14.907516)scale(0.1 -0.1)\">\r\n       <use xlink:href=\"#DejaVuSans-38\"/>\r\n       <use x=\"63.623047\" xlink:href=\"#DejaVuSans-30\"/>\r\n       <use x=\"127.246094\" xlink:href=\"#DejaVuSans-30\"/>\r\n       <use x=\"190.869141\" xlink:href=\"#DejaVuSans-30\"/>\r\n       <use x=\"254.492188\" xlink:href=\"#DejaVuSans-30\"/>\r\n      </g>\r\n     </g>\r\n    </g>\r\n    <g id=\"text_16\">\r\n     <!-- Frequency -->\r\n     <g transform=\"translate(14.798438 141.749687)rotate(-90)scale(0.1 -0.1)\">\r\n      <defs>\r\n       <path d=\"M 628 4666 \r\nL 3309 4666 \r\nL 3309 4134 \r\nL 1259 4134 \r\nL 1259 2759 \r\nL 3109 2759 \r\nL 3109 2228 \r\nL 1259 2228 \r\nL 1259 0 \r\nL 628 0 \r\nL 628 4666 \r\nz\r\n\" id=\"DejaVuSans-46\" transform=\"scale(0.015625)\"/>\r\n       <path d=\"M 2631 2963 \r\nQ 2534 3019 2420 3045 \r\nQ 2306 3072 2169 3072 \r\nQ 1681 3072 1420 2755 \r\nQ 1159 2438 1159 1844 \r\nL 1159 0 \r\nL 581 0 \r\nL 581 3500 \r\nL 1159 3500 \r\nL 1159 2956 \r\nQ 1341 3275 1631 3429 \r\nQ 1922 3584 2338 3584 \r\nQ 2397 3584 2469 3576 \r\nQ 2541 3569 2628 3553 \r\nL 2631 2963 \r\nz\r\n\" id=\"DejaVuSans-72\" transform=\"scale(0.015625)\"/>\r\n       <path d=\"M 3597 1894 \r\nL 3597 1613 \r\nL 953 1613 \r\nQ 991 1019 1311 708 \r\nQ 1631 397 2203 397 \r\nQ 2534 397 2845 478 \r\nQ 3156 559 3463 722 \r\nL 3463 178 \r\nQ 3153 47 2828 -22 \r\nQ 2503 -91 2169 -91 \r\nQ 1331 -91 842 396 \r\nQ 353 884 353 1716 \r\nQ 353 2575 817 3079 \r\nQ 1281 3584 2069 3584 \r\nQ 2775 3584 3186 3129 \r\nQ 3597 2675 3597 1894 \r\nz\r\nM 3022 2063 \r\nQ 3016 2534 2758 2815 \r\nQ 2500 3097 2075 3097 \r\nQ 1594 3097 1305 2825 \r\nQ 1016 2553 972 2059 \r\nL 3022 2063 \r\nz\r\n\" id=\"DejaVuSans-65\" transform=\"scale(0.015625)\"/>\r\n       <path d=\"M 947 1747 \r\nQ 947 1113 1208 752 \r\nQ 1469 391 1925 391 \r\nQ 2381 391 2643 752 \r\nQ 2906 1113 2906 1747 \r\nQ 2906 2381 2643 2742 \r\nQ 2381 3103 1925 3103 \r\nQ 1469 3103 1208 2742 \r\nQ 947 2381 947 1747 \r\nz\r\nM 2906 525 \r\nQ 2725 213 2448 61 \r\nQ 2172 -91 1784 -91 \r\nQ 1150 -91 751 415 \r\nQ 353 922 353 1747 \r\nQ 353 2572 751 3078 \r\nQ 1150 3584 1784 3584 \r\nQ 2172 3584 2448 3432 \r\nQ 2725 3281 2906 2969 \r\nL 2906 3500 \r\nL 3481 3500 \r\nL 3481 -1331 \r\nL 2906 -1331 \r\nL 2906 525 \r\nz\r\n\" id=\"DejaVuSans-71\" transform=\"scale(0.015625)\"/>\r\n       <path d=\"M 544 1381 \r\nL 544 3500 \r\nL 1119 3500 \r\nL 1119 1403 \r\nQ 1119 906 1312 657 \r\nQ 1506 409 1894 409 \r\nQ 2359 409 2629 706 \r\nQ 2900 1003 2900 1516 \r\nL 2900 3500 \r\nL 3475 3500 \r\nL 3475 0 \r\nL 2900 0 \r\nL 2900 538 \r\nQ 2691 219 2414 64 \r\nQ 2138 -91 1772 -91 \r\nQ 1169 -91 856 284 \r\nQ 544 659 544 1381 \r\nz\r\nM 1991 3584 \r\nL 1991 3584 \r\nz\r\n\" id=\"DejaVuSans-75\" transform=\"scale(0.015625)\"/>\r\n       <path d=\"M 3513 2113 \r\nL 3513 0 \r\nL 2938 0 \r\nL 2938 2094 \r\nQ 2938 2591 2744 2837 \r\nQ 2550 3084 2163 3084 \r\nQ 1697 3084 1428 2787 \r\nQ 1159 2491 1159 1978 \r\nL 1159 0 \r\nL 581 0 \r\nL 581 3500 \r\nL 1159 3500 \r\nL 1159 2956 \r\nQ 1366 3272 1645 3428 \r\nQ 1925 3584 2291 3584 \r\nQ 2894 3584 3203 3211 \r\nQ 3513 2838 3513 2113 \r\nz\r\n\" id=\"DejaVuSans-6e\" transform=\"scale(0.015625)\"/>\r\n       <path d=\"M 3122 3366 \r\nL 3122 2828 \r\nQ 2878 2963 2633 3030 \r\nQ 2388 3097 2138 3097 \r\nQ 1578 3097 1268 2742 \r\nQ 959 2388 959 1747 \r\nQ 959 1106 1268 751 \r\nQ 1578 397 2138 397 \r\nQ 2388 397 2633 464 \r\nQ 2878 531 3122 666 \r\nL 3122 134 \r\nQ 2881 22 2623 -34 \r\nQ 2366 -91 2075 -91 \r\nQ 1284 -91 818 406 \r\nQ 353 903 353 1747 \r\nQ 353 2603 823 3093 \r\nQ 1294 3584 2113 3584 \r\nQ 2378 3584 2631 3529 \r\nQ 2884 3475 3122 3366 \r\nz\r\n\" id=\"DejaVuSans-63\" transform=\"scale(0.015625)\"/>\r\n       <path d=\"M 2059 -325 \r\nQ 1816 -950 1584 -1140 \r\nQ 1353 -1331 966 -1331 \r\nL 506 -1331 \r\nL 506 -850 \r\nL 844 -850 \r\nQ 1081 -850 1212 -737 \r\nQ 1344 -625 1503 -206 \r\nL 1606 56 \r\nL 191 3500 \r\nL 800 3500 \r\nL 1894 763 \r\nL 2988 3500 \r\nL 3597 3500 \r\nL 2059 -325 \r\nz\r\n\" id=\"DejaVuSans-79\" transform=\"scale(0.015625)\"/>\r\n      </defs>\r\n      <use xlink:href=\"#DejaVuSans-46\"/>\r\n      <use x=\"50.269531\" xlink:href=\"#DejaVuSans-72\"/>\r\n      <use x=\"89.132812\" xlink:href=\"#DejaVuSans-65\"/>\r\n      <use x=\"150.65625\" xlink:href=\"#DejaVuSans-71\"/>\r\n      <use x=\"214.132812\" xlink:href=\"#DejaVuSans-75\"/>\r\n      <use x=\"277.511719\" xlink:href=\"#DejaVuSans-65\"/>\r\n      <use x=\"339.035156\" xlink:href=\"#DejaVuSans-6e\"/>\r\n      <use x=\"402.414062\" xlink:href=\"#DejaVuSans-63\"/>\r\n      <use x=\"457.394531\" xlink:href=\"#DejaVuSans-79\"/>\r\n     </g>\r\n    </g>\r\n   </g>\r\n   <g id=\"patch_13\">\r\n    <path d=\"M 59.690625 224.64 \r\nL 59.690625 7.2 \r\n\" style=\"fill:none;stroke:#000000;stroke-linecap:square;stroke-linejoin:miter;stroke-width:0.8;\"/>\r\n   </g>\r\n   <g id=\"patch_14\">\r\n    <path d=\"M 394.490625 224.64 \r\nL 394.490625 7.2 \r\n\" style=\"fill:none;stroke:#000000;stroke-linecap:square;stroke-linejoin:miter;stroke-width:0.8;\"/>\r\n   </g>\r\n   <g id=\"patch_15\">\r\n    <path d=\"M 59.690625 224.64 \r\nL 394.490625 224.64 \r\n\" style=\"fill:none;stroke:#000000;stroke-linecap:square;stroke-linejoin:miter;stroke-width:0.8;\"/>\r\n   </g>\r\n   <g id=\"patch_16\">\r\n    <path d=\"M 59.690625 7.2 \r\nL 394.490625 7.2 \r\n\" style=\"fill:none;stroke:#000000;stroke-linecap:square;stroke-linejoin:miter;stroke-width:0.8;\"/>\r\n   </g>\r\n  </g>\r\n </g>\r\n <defs>\r\n  <clipPath id=\"p308ad78bcd\">\r\n   <rect height=\"217.44\" width=\"334.8\" x=\"59.690625\" y=\"7.2\"/>\r\n  </clipPath>\r\n </defs>\r\n</svg>\r\n",
      "image/png": "[encoded data removed]"
     },
     "metadata": {
      "needs_background": "light"
     }
    }
   ],
   "metadata": {}
  },
  {
   "cell_type": "code",
   "execution_count": 13,
   "source": [
    "# Практически для всех примеров модель банка прогнозирует класс 0 (вероятности < 0.5)\r\n",
    "data['PD'].plot.hist(alpha=0.6)"
   ],
   "outputs": [
    {
     "output_type": "execute_result",
     "data": {
      "text/plain": [
       "<AxesSubplot:ylabel='Frequency'>"
      ]
     },
     "metadata": {},
     "execution_count": 13
    },
    {
     "output_type": "display_data",
     "data": {
      "text/plain": [
       "<Figure size 432x288 with 1 Axes>"
      ],
      "image/svg+xml": "<?xml version=\"1.0\" encoding=\"utf-8\" standalone=\"no\"?>\r\n<!DOCTYPE svg PUBLIC \"-//W3C//DTD SVG 1.1//EN\"\r\n  \"http://www.w3.org/Graphics/SVG/1.1/DTD/svg11.dtd\">\r\n<svg height=\"248.518125pt\" version=\"1.1\" viewBox=\"0 0 401.690625 248.518125\" width=\"401.690625pt\" xmlns=\"http://www.w3.org/2000/svg\" xmlns:xlink=\"http://www.w3.org/1999/xlink\">\r\n <metadata>\r\n  <rdf:RDF xmlns:cc=\"http://creativecommons.org/ns#\" xmlns:dc=\"http://purl.org/dc/elements/1.1/\" xmlns:rdf=\"http://www.w3.org/1999/02/22-rdf-syntax-ns#\">\r\n   <cc:Work>\r\n    <dc:type rdf:resource=\"http://purl.org/dc/dcmitype/StillImage\"/>\r\n    <dc:date>2021-11-09T11:59:11.865850</dc:date>\r\n    <dc:format>image/svg+xml</dc:format>\r\n    <dc:creator>\r\n     <cc:Agent>\r\n      <dc:title>Matplotlib v3.4.3, https://matplotlib.org/</dc:title>\r\n     </cc:Agent>\r\n    </dc:creator>\r\n   </cc:Work>\r\n  </rdf:RDF>\r\n </metadata>\r\n <defs>\r\n  <style type=\"text/css\">*{stroke-linecap:butt;stroke-linejoin:round;}</style>\r\n </defs>\r\n <g id=\"figure_1\">\r\n  <g id=\"patch_1\">\r\n   <path d=\"M 0 248.518125 \r\nL 401.690625 248.518125 \r\nL 401.690625 0 \r\nL 0 0 \r\nz\r\n\" style=\"fill:none;\"/>\r\n  </g>\r\n  <g id=\"axes_1\">\r\n   <g id=\"patch_2\">\r\n    <path d=\"M 59.690625 224.64 \r\nL 394.490625 224.64 \r\nL 394.490625 7.2 \r\nL 59.690625 7.2 \r\nz\r\n\" style=\"fill:#ffffff;\"/>\r\n   </g>\r\n   <g id=\"patch_3\">\r\n    <path clip-path=\"url(#p7c3def29ca)\" d=\"M 74.908807 224.64 \r\nL 105.34517 224.64 \r\nL 105.34517 17.554286 \r\nL 74.908807 17.554286 \r\nz\r\n\" style=\"fill:#1f77b4;opacity:0.6;\"/>\r\n   </g>\r\n   <g id=\"patch_4\">\r\n    <path clip-path=\"url(#p7c3def29ca)\" d=\"M 105.34517 224.64 \r\nL 135.781534 224.64 \r\nL 135.781534 206.825312 \r\nL 105.34517 206.825312 \r\nz\r\n\" style=\"fill:#1f77b4;opacity:0.6;\"/>\r\n   </g>\r\n   <g id=\"patch_5\">\r\n    <path clip-path=\"url(#p7c3def29ca)\" d=\"M 135.781534 224.64 \r\nL 166.217898 224.64 \r\nL 166.217898 219.681598 \r\nL 135.781534 219.681598 \r\nz\r\n\" style=\"fill:#1f77b4;opacity:0.6;\"/>\r\n   </g>\r\n   <g id=\"patch_6\">\r\n    <path clip-path=\"url(#p7c3def29ca)\" d=\"M 166.217898 224.64 \r\nL 196.654261 224.64 \r\nL 196.654261 222.7616 \r\nL 166.217898 222.7616 \r\nz\r\n\" style=\"fill:#1f77b4;opacity:0.6;\"/>\r\n   </g>\r\n   <g id=\"patch_7\">\r\n    <path clip-path=\"url(#p7c3def29ca)\" d=\"M 196.654261 224.64 \r\nL 227.090625 224.64 \r\nL 227.090625 223.693631 \r\nL 196.654261 223.693631 \r\nz\r\n\" style=\"fill:#1f77b4;opacity:0.6;\"/>\r\n   </g>\r\n   <g id=\"patch_8\">\r\n    <path clip-path=\"url(#p7c3def29ca)\" d=\"M 227.090625 224.64 \r\nL 257.526989 224.64 \r\nL 257.526989 224.040633 \r\nL 227.090625 224.040633 \r\nz\r\n\" style=\"fill:#1f77b4;opacity:0.6;\"/>\r\n   </g>\r\n   <g id=\"patch_9\">\r\n    <path clip-path=\"url(#p7c3def29ca)\" d=\"M 257.526989 224.64 \r\nL 287.963352 224.64 \r\nL 287.963352 224.31594 \r\nL 257.526989 224.31594 \r\nz\r\n\" style=\"fill:#1f77b4;opacity:0.6;\"/>\r\n   </g>\r\n   <g id=\"patch_10\">\r\n    <path clip-path=\"url(#p7c3def29ca)\" d=\"M 287.963352 224.64 \r\nL 318.399716 224.64 \r\nL 318.399716 224.467933 \r\nL 287.963352 224.467933 \r\nz\r\n\" style=\"fill:#1f77b4;opacity:0.6;\"/>\r\n   </g>\r\n   <g id=\"patch_11\">\r\n    <path clip-path=\"url(#p7c3def29ca)\" d=\"M 318.399716 224.64 \r\nL 348.83608 224.64 \r\nL 348.83608 224.465065 \r\nL 318.399716 224.465065 \r\nz\r\n\" style=\"fill:#1f77b4;opacity:0.6;\"/>\r\n   </g>\r\n   <g id=\"patch_12\">\r\n    <path clip-path=\"url(#p7c3def29ca)\" d=\"M 348.83608 224.64 \r\nL 379.272443 224.64 \r\nL 379.272443 224.533892 \r\nL 348.83608 224.533892 \r\nz\r\n\" style=\"fill:#1f77b4;opacity:0.6;\"/>\r\n   </g>\r\n   <g id=\"matplotlib.axis_1\">\r\n    <g id=\"xtick_1\">\r\n     <g id=\"line2d_1\">\r\n      <defs>\r\n       <path d=\"M 0 0 \r\nL 0 3.5 \r\n\" id=\"m058f4fcf98\" style=\"stroke:#000000;stroke-width:0.8;\"/>\r\n      </defs>\r\n      <g>\r\n       <use style=\"stroke:#000000;stroke-width:0.8;\" x=\"72.992862\" xlink:href=\"#m058f4fcf98\" y=\"224.64\"/>\r\n      </g>\r\n     </g>\r\n     <g id=\"text_1\">\r\n      <!-- 0.0 -->\r\n      <g transform=\"translate(65.0413 239.238437)scale(0.1 -0.1)\">\r\n       <defs>\r\n        <path d=\"M 2034 4250 \r\nQ 1547 4250 1301 3770 \r\nQ 1056 3291 1056 2328 \r\nQ 1056 1369 1301 889 \r\nQ 1547 409 2034 409 \r\nQ 2525 409 2770 889 \r\nQ 3016 1369 3016 2328 \r\nQ 3016 3291 2770 3770 \r\nQ 2525 4250 2034 4250 \r\nz\r\nM 2034 4750 \r\nQ 2819 4750 3233 4129 \r\nQ 3647 3509 3647 2328 \r\nQ 3647 1150 3233 529 \r\nQ 2819 -91 2034 -91 \r\nQ 1250 -91 836 529 \r\nQ 422 1150 422 2328 \r\nQ 422 3509 836 4129 \r\nQ 1250 4750 2034 4750 \r\nz\r\n\" id=\"DejaVuSans-30\" transform=\"scale(0.015625)\"/>\r\n        <path d=\"M 684 794 \r\nL 1344 794 \r\nL 1344 0 \r\nL 684 0 \r\nL 684 794 \r\nz\r\n\" id=\"DejaVuSans-2e\" transform=\"scale(0.015625)\"/>\r\n       </defs>\r\n       <use xlink:href=\"#DejaVuSans-30\"/>\r\n       <use x=\"63.623047\" xlink:href=\"#DejaVuSans-2e\"/>\r\n       <use x=\"95.410156\" xlink:href=\"#DejaVuSans-30\"/>\r\n      </g>\r\n     </g>\r\n    </g>\r\n    <g id=\"xtick_2\">\r\n     <g id=\"line2d_2\">\r\n      <g>\r\n       <use style=\"stroke:#000000;stroke-width:0.8;\" x=\"135.278876\" xlink:href=\"#m058f4fcf98\" y=\"224.64\"/>\r\n      </g>\r\n     </g>\r\n     <g id=\"text_2\">\r\n      <!-- 0.2 -->\r\n      <g transform=\"translate(127.327313 239.238437)scale(0.1 -0.1)\">\r\n       <defs>\r\n        <path d=\"M 1228 531 \r\nL 3431 531 \r\nL 3431 0 \r\nL 469 0 \r\nL 469 531 \r\nQ 828 903 1448 1529 \r\nQ 2069 2156 2228 2338 \r\nQ 2531 2678 2651 2914 \r\nQ 2772 3150 2772 3378 \r\nQ 2772 3750 2511 3984 \r\nQ 2250 4219 1831 4219 \r\nQ 1534 4219 1204 4116 \r\nQ 875 4013 500 3803 \r\nL 500 4441 \r\nQ 881 4594 1212 4672 \r\nQ 1544 4750 1819 4750 \r\nQ 2544 4750 2975 4387 \r\nQ 3406 4025 3406 3419 \r\nQ 3406 3131 3298 2873 \r\nQ 3191 2616 2906 2266 \r\nQ 2828 2175 2409 1742 \r\nQ 1991 1309 1228 531 \r\nz\r\n\" id=\"DejaVuSans-32\" transform=\"scale(0.015625)\"/>\r\n       </defs>\r\n       <use xlink:href=\"#DejaVuSans-30\"/>\r\n       <use x=\"63.623047\" xlink:href=\"#DejaVuSans-2e\"/>\r\n       <use x=\"95.410156\" xlink:href=\"#DejaVuSans-32\"/>\r\n      </g>\r\n     </g>\r\n    </g>\r\n    <g id=\"xtick_3\">\r\n     <g id=\"line2d_3\">\r\n      <g>\r\n       <use style=\"stroke:#000000;stroke-width:0.8;\" x=\"197.564889\" xlink:href=\"#m058f4fcf98\" y=\"224.64\"/>\r\n      </g>\r\n     </g>\r\n     <g id=\"text_3\">\r\n      <!-- 0.4 -->\r\n      <g transform=\"translate(189.613326 239.238437)scale(0.1 -0.1)\">\r\n       <defs>\r\n        <path d=\"M 2419 4116 \r\nL 825 1625 \r\nL 2419 1625 \r\nL 2419 4116 \r\nz\r\nM 2253 4666 \r\nL 3047 4666 \r\nL 3047 1625 \r\nL 3713 1625 \r\nL 3713 1100 \r\nL 3047 1100 \r\nL 3047 0 \r\nL 2419 0 \r\nL 2419 1100 \r\nL 313 1100 \r\nL 313 1709 \r\nL 2253 4666 \r\nz\r\n\" id=\"DejaVuSans-34\" transform=\"scale(0.015625)\"/>\r\n       </defs>\r\n       <use xlink:href=\"#DejaVuSans-30\"/>\r\n       <use x=\"63.623047\" xlink:href=\"#DejaVuSans-2e\"/>\r\n       <use x=\"95.410156\" xlink:href=\"#DejaVuSans-34\"/>\r\n      </g>\r\n     </g>\r\n    </g>\r\n    <g id=\"xtick_4\">\r\n     <g id=\"line2d_4\">\r\n      <g>\r\n       <use style=\"stroke:#000000;stroke-width:0.8;\" x=\"259.850902\" xlink:href=\"#m058f4fcf98\" y=\"224.64\"/>\r\n      </g>\r\n     </g>\r\n     <g id=\"text_4\">\r\n      <!-- 0.6 -->\r\n      <g transform=\"translate(251.899339 239.238437)scale(0.1 -0.1)\">\r\n       <defs>\r\n        <path d=\"M 2113 2584 \r\nQ 1688 2584 1439 2293 \r\nQ 1191 2003 1191 1497 \r\nQ 1191 994 1439 701 \r\nQ 1688 409 2113 409 \r\nQ 2538 409 2786 701 \r\nQ 3034 994 3034 1497 \r\nQ 3034 2003 2786 2293 \r\nQ 2538 2584 2113 2584 \r\nz\r\nM 3366 4563 \r\nL 3366 3988 \r\nQ 3128 4100 2886 4159 \r\nQ 2644 4219 2406 4219 \r\nQ 1781 4219 1451 3797 \r\nQ 1122 3375 1075 2522 \r\nQ 1259 2794 1537 2939 \r\nQ 1816 3084 2150 3084 \r\nQ 2853 3084 3261 2657 \r\nQ 3669 2231 3669 1497 \r\nQ 3669 778 3244 343 \r\nQ 2819 -91 2113 -91 \r\nQ 1303 -91 875 529 \r\nQ 447 1150 447 2328 \r\nQ 447 3434 972 4092 \r\nQ 1497 4750 2381 4750 \r\nQ 2619 4750 2861 4703 \r\nQ 3103 4656 3366 4563 \r\nz\r\n\" id=\"DejaVuSans-36\" transform=\"scale(0.015625)\"/>\r\n       </defs>\r\n       <use xlink:href=\"#DejaVuSans-30\"/>\r\n       <use x=\"63.623047\" xlink:href=\"#DejaVuSans-2e\"/>\r\n       <use x=\"95.410156\" xlink:href=\"#DejaVuSans-36\"/>\r\n      </g>\r\n     </g>\r\n    </g>\r\n    <g id=\"xtick_5\">\r\n     <g id=\"line2d_5\">\r\n      <g>\r\n       <use style=\"stroke:#000000;stroke-width:0.8;\" x=\"322.136915\" xlink:href=\"#m058f4fcf98\" y=\"224.64\"/>\r\n      </g>\r\n     </g>\r\n     <g id=\"text_5\">\r\n      <!-- 0.8 -->\r\n      <g transform=\"translate(314.185353 239.238437)scale(0.1 -0.1)\">\r\n       <defs>\r\n        <path d=\"M 2034 2216 \r\nQ 1584 2216 1326 1975 \r\nQ 1069 1734 1069 1313 \r\nQ 1069 891 1326 650 \r\nQ 1584 409 2034 409 \r\nQ 2484 409 2743 651 \r\nQ 3003 894 3003 1313 \r\nQ 3003 1734 2745 1975 \r\nQ 2488 2216 2034 2216 \r\nz\r\nM 1403 2484 \r\nQ 997 2584 770 2862 \r\nQ 544 3141 544 3541 \r\nQ 544 4100 942 4425 \r\nQ 1341 4750 2034 4750 \r\nQ 2731 4750 3128 4425 \r\nQ 3525 4100 3525 3541 \r\nQ 3525 3141 3298 2862 \r\nQ 3072 2584 2669 2484 \r\nQ 3125 2378 3379 2068 \r\nQ 3634 1759 3634 1313 \r\nQ 3634 634 3220 271 \r\nQ 2806 -91 2034 -91 \r\nQ 1263 -91 848 271 \r\nQ 434 634 434 1313 \r\nQ 434 1759 690 2068 \r\nQ 947 2378 1403 2484 \r\nz\r\nM 1172 3481 \r\nQ 1172 3119 1398 2916 \r\nQ 1625 2713 2034 2713 \r\nQ 2441 2713 2670 2916 \r\nQ 2900 3119 2900 3481 \r\nQ 2900 3844 2670 4047 \r\nQ 2441 4250 2034 4250 \r\nQ 1625 4250 1398 4047 \r\nQ 1172 3844 1172 3481 \r\nz\r\n\" id=\"DejaVuSans-38\" transform=\"scale(0.015625)\"/>\r\n       </defs>\r\n       <use xlink:href=\"#DejaVuSans-30\"/>\r\n       <use x=\"63.623047\" xlink:href=\"#DejaVuSans-2e\"/>\r\n       <use x=\"95.410156\" xlink:href=\"#DejaVuSans-38\"/>\r\n      </g>\r\n     </g>\r\n    </g>\r\n    <g id=\"xtick_6\">\r\n     <g id=\"line2d_6\">\r\n      <g>\r\n       <use style=\"stroke:#000000;stroke-width:0.8;\" x=\"384.422928\" xlink:href=\"#m058f4fcf98\" y=\"224.64\"/>\r\n      </g>\r\n     </g>\r\n     <g id=\"text_6\">\r\n      <!-- 1.0 -->\r\n      <g transform=\"translate(376.471366 239.238437)scale(0.1 -0.1)\">\r\n       <defs>\r\n        <path d=\"M 794 531 \r\nL 1825 531 \r\nL 1825 4091 \r\nL 703 3866 \r\nL 703 4441 \r\nL 1819 4666 \r\nL 2450 4666 \r\nL 2450 531 \r\nL 3481 531 \r\nL 3481 0 \r\nL 794 0 \r\nL 794 531 \r\nz\r\n\" id=\"DejaVuSans-31\" transform=\"scale(0.015625)\"/>\r\n       </defs>\r\n       <use xlink:href=\"#DejaVuSans-31\"/>\r\n       <use x=\"63.623047\" xlink:href=\"#DejaVuSans-2e\"/>\r\n       <use x=\"95.410156\" xlink:href=\"#DejaVuSans-30\"/>\r\n      </g>\r\n     </g>\r\n    </g>\r\n   </g>\r\n   <g id=\"matplotlib.axis_2\">\r\n    <g id=\"ytick_1\">\r\n     <g id=\"line2d_7\">\r\n      <defs>\r\n       <path d=\"M 0 0 \r\nL -3.5 0 \r\n\" id=\"m2d3098f633\" style=\"stroke:#000000;stroke-width:0.8;\"/>\r\n      </defs>\r\n      <g>\r\n       <use style=\"stroke:#000000;stroke-width:0.8;\" x=\"59.690625\" xlink:href=\"#m2d3098f633\" y=\"224.64\"/>\r\n      </g>\r\n     </g>\r\n     <g id=\"text_7\">\r\n      <!-- 0 -->\r\n      <g transform=\"translate(46.328125 228.439219)scale(0.1 -0.1)\">\r\n       <use xlink:href=\"#DejaVuSans-30\"/>\r\n      </g>\r\n     </g>\r\n    </g>\r\n    <g id=\"ytick_2\">\r\n     <g id=\"line2d_8\">\r\n      <g>\r\n       <use style=\"stroke:#000000;stroke-width:0.8;\" x=\"59.690625\" xlink:href=\"#m2d3098f633\" y=\"195.962137\"/>\r\n      </g>\r\n     </g>\r\n     <g id=\"text_8\">\r\n      <!-- 10000 -->\r\n      <g transform=\"translate(20.878125 199.761356)scale(0.1 -0.1)\">\r\n       <use xlink:href=\"#DejaVuSans-31\"/>\r\n       <use x=\"63.623047\" xlink:href=\"#DejaVuSans-30\"/>\r\n       <use x=\"127.246094\" xlink:href=\"#DejaVuSans-30\"/>\r\n       <use x=\"190.869141\" xlink:href=\"#DejaVuSans-30\"/>\r\n       <use x=\"254.492188\" xlink:href=\"#DejaVuSans-30\"/>\r\n      </g>\r\n     </g>\r\n    </g>\r\n    <g id=\"ytick_3\">\r\n     <g id=\"line2d_9\">\r\n      <g>\r\n       <use style=\"stroke:#000000;stroke-width:0.8;\" x=\"59.690625\" xlink:href=\"#m2d3098f633\" y=\"167.284275\"/>\r\n      </g>\r\n     </g>\r\n     <g id=\"text_9\">\r\n      <!-- 20000 -->\r\n      <g transform=\"translate(20.878125 171.083493)scale(0.1 -0.1)\">\r\n       <use xlink:href=\"#DejaVuSans-32\"/>\r\n       <use x=\"63.623047\" xlink:href=\"#DejaVuSans-30\"/>\r\n       <use x=\"127.246094\" xlink:href=\"#DejaVuSans-30\"/>\r\n       <use x=\"190.869141\" xlink:href=\"#DejaVuSans-30\"/>\r\n       <use x=\"254.492188\" xlink:href=\"#DejaVuSans-30\"/>\r\n      </g>\r\n     </g>\r\n    </g>\r\n    <g id=\"ytick_4\">\r\n     <g id=\"line2d_10\">\r\n      <g>\r\n       <use style=\"stroke:#000000;stroke-width:0.8;\" x=\"59.690625\" xlink:href=\"#m2d3098f633\" y=\"138.606412\"/>\r\n      </g>\r\n     </g>\r\n     <g id=\"text_10\">\r\n      <!-- 30000 -->\r\n      <g transform=\"translate(20.878125 142.405631)scale(0.1 -0.1)\">\r\n       <defs>\r\n        <path d=\"M 2597 2516 \r\nQ 3050 2419 3304 2112 \r\nQ 3559 1806 3559 1356 \r\nQ 3559 666 3084 287 \r\nQ 2609 -91 1734 -91 \r\nQ 1441 -91 1130 -33 \r\nQ 819 25 488 141 \r\nL 488 750 \r\nQ 750 597 1062 519 \r\nQ 1375 441 1716 441 \r\nQ 2309 441 2620 675 \r\nQ 2931 909 2931 1356 \r\nQ 2931 1769 2642 2001 \r\nQ 2353 2234 1838 2234 \r\nL 1294 2234 \r\nL 1294 2753 \r\nL 1863 2753 \r\nQ 2328 2753 2575 2939 \r\nQ 2822 3125 2822 3475 \r\nQ 2822 3834 2567 4026 \r\nQ 2313 4219 1838 4219 \r\nQ 1578 4219 1281 4162 \r\nQ 984 4106 628 3988 \r\nL 628 4550 \r\nQ 988 4650 1302 4700 \r\nQ 1616 4750 1894 4750 \r\nQ 2613 4750 3031 4423 \r\nQ 3450 4097 3450 3541 \r\nQ 3450 3153 3228 2886 \r\nQ 3006 2619 2597 2516 \r\nz\r\n\" id=\"DejaVuSans-33\" transform=\"scale(0.015625)\"/>\r\n       </defs>\r\n       <use xlink:href=\"#DejaVuSans-33\"/>\r\n       <use x=\"63.623047\" xlink:href=\"#DejaVuSans-30\"/>\r\n       <use x=\"127.246094\" xlink:href=\"#DejaVuSans-30\"/>\r\n       <use x=\"190.869141\" xlink:href=\"#DejaVuSans-30\"/>\r\n       <use x=\"254.492188\" xlink:href=\"#DejaVuSans-30\"/>\r\n      </g>\r\n     </g>\r\n    </g>\r\n    <g id=\"ytick_5\">\r\n     <g id=\"line2d_11\">\r\n      <g>\r\n       <use style=\"stroke:#000000;stroke-width:0.8;\" x=\"59.690625\" xlink:href=\"#m2d3098f633\" y=\"109.928549\"/>\r\n      </g>\r\n     </g>\r\n     <g id=\"text_11\">\r\n      <!-- 40000 -->\r\n      <g transform=\"translate(20.878125 113.727768)scale(0.1 -0.1)\">\r\n       <use xlink:href=\"#DejaVuSans-34\"/>\r\n       <use x=\"63.623047\" xlink:href=\"#DejaVuSans-30\"/>\r\n       <use x=\"127.246094\" xlink:href=\"#DejaVuSans-30\"/>\r\n       <use x=\"190.869141\" xlink:href=\"#DejaVuSans-30\"/>\r\n       <use x=\"254.492188\" xlink:href=\"#DejaVuSans-30\"/>\r\n      </g>\r\n     </g>\r\n    </g>\r\n    <g id=\"ytick_6\">\r\n     <g id=\"line2d_12\">\r\n      <g>\r\n       <use style=\"stroke:#000000;stroke-width:0.8;\" x=\"59.690625\" xlink:href=\"#m2d3098f633\" y=\"81.250687\"/>\r\n      </g>\r\n     </g>\r\n     <g id=\"text_12\">\r\n      <!-- 50000 -->\r\n      <g transform=\"translate(20.878125 85.049905)scale(0.1 -0.1)\">\r\n       <defs>\r\n        <path d=\"M 691 4666 \r\nL 3169 4666 \r\nL 3169 4134 \r\nL 1269 4134 \r\nL 1269 2991 \r\nQ 1406 3038 1543 3061 \r\nQ 1681 3084 1819 3084 \r\nQ 2600 3084 3056 2656 \r\nQ 3513 2228 3513 1497 \r\nQ 3513 744 3044 326 \r\nQ 2575 -91 1722 -91 \r\nQ 1428 -91 1123 -41 \r\nQ 819 9 494 109 \r\nL 494 744 \r\nQ 775 591 1075 516 \r\nQ 1375 441 1709 441 \r\nQ 2250 441 2565 725 \r\nQ 2881 1009 2881 1497 \r\nQ 2881 1984 2565 2268 \r\nQ 2250 2553 1709 2553 \r\nQ 1456 2553 1204 2497 \r\nQ 953 2441 691 2322 \r\nL 691 4666 \r\nz\r\n\" id=\"DejaVuSans-35\" transform=\"scale(0.015625)\"/>\r\n       </defs>\r\n       <use xlink:href=\"#DejaVuSans-35\"/>\r\n       <use x=\"63.623047\" xlink:href=\"#DejaVuSans-30\"/>\r\n       <use x=\"127.246094\" xlink:href=\"#DejaVuSans-30\"/>\r\n       <use x=\"190.869141\" xlink:href=\"#DejaVuSans-30\"/>\r\n       <use x=\"254.492188\" xlink:href=\"#DejaVuSans-30\"/>\r\n      </g>\r\n     </g>\r\n    </g>\r\n    <g id=\"ytick_7\">\r\n     <g id=\"line2d_13\">\r\n      <g>\r\n       <use style=\"stroke:#000000;stroke-width:0.8;\" x=\"59.690625\" xlink:href=\"#m2d3098f633\" y=\"52.572824\"/>\r\n      </g>\r\n     </g>\r\n     <g id=\"text_13\">\r\n      <!-- 60000 -->\r\n      <g transform=\"translate(20.878125 56.372043)scale(0.1 -0.1)\">\r\n       <use xlink:href=\"#DejaVuSans-36\"/>\r\n       <use x=\"63.623047\" xlink:href=\"#DejaVuSans-30\"/>\r\n       <use x=\"127.246094\" xlink:href=\"#DejaVuSans-30\"/>\r\n       <use x=\"190.869141\" xlink:href=\"#DejaVuSans-30\"/>\r\n       <use x=\"254.492188\" xlink:href=\"#DejaVuSans-30\"/>\r\n      </g>\r\n     </g>\r\n    </g>\r\n    <g id=\"ytick_8\">\r\n     <g id=\"line2d_14\">\r\n      <g>\r\n       <use style=\"stroke:#000000;stroke-width:0.8;\" x=\"59.690625\" xlink:href=\"#m2d3098f633\" y=\"23.894961\"/>\r\n      </g>\r\n     </g>\r\n     <g id=\"text_14\">\r\n      <!-- 70000 -->\r\n      <g transform=\"translate(20.878125 27.69418)scale(0.1 -0.1)\">\r\n       <defs>\r\n        <path d=\"M 525 4666 \r\nL 3525 4666 \r\nL 3525 4397 \r\nL 1831 0 \r\nL 1172 0 \r\nL 2766 4134 \r\nL 525 4134 \r\nL 525 4666 \r\nz\r\n\" id=\"DejaVuSans-37\" transform=\"scale(0.015625)\"/>\r\n       </defs>\r\n       <use xlink:href=\"#DejaVuSans-37\"/>\r\n       <use x=\"63.623047\" xlink:href=\"#DejaVuSans-30\"/>\r\n       <use x=\"127.246094\" xlink:href=\"#DejaVuSans-30\"/>\r\n       <use x=\"190.869141\" xlink:href=\"#DejaVuSans-30\"/>\r\n       <use x=\"254.492188\" xlink:href=\"#DejaVuSans-30\"/>\r\n      </g>\r\n     </g>\r\n    </g>\r\n    <g id=\"text_15\">\r\n     <!-- Frequency -->\r\n     <g transform=\"translate(14.798438 141.749687)rotate(-90)scale(0.1 -0.1)\">\r\n      <defs>\r\n       <path d=\"M 628 4666 \r\nL 3309 4666 \r\nL 3309 4134 \r\nL 1259 4134 \r\nL 1259 2759 \r\nL 3109 2759 \r\nL 3109 2228 \r\nL 1259 2228 \r\nL 1259 0 \r\nL 628 0 \r\nL 628 4666 \r\nz\r\n\" id=\"DejaVuSans-46\" transform=\"scale(0.015625)\"/>\r\n       <path d=\"M 2631 2963 \r\nQ 2534 3019 2420 3045 \r\nQ 2306 3072 2169 3072 \r\nQ 1681 3072 1420 2755 \r\nQ 1159 2438 1159 1844 \r\nL 1159 0 \r\nL 581 0 \r\nL 581 3500 \r\nL 1159 3500 \r\nL 1159 2956 \r\nQ 1341 3275 1631 3429 \r\nQ 1922 3584 2338 3584 \r\nQ 2397 3584 2469 3576 \r\nQ 2541 3569 2628 3553 \r\nL 2631 2963 \r\nz\r\n\" id=\"DejaVuSans-72\" transform=\"scale(0.015625)\"/>\r\n       <path d=\"M 3597 1894 \r\nL 3597 1613 \r\nL 953 1613 \r\nQ 991 1019 1311 708 \r\nQ 1631 397 2203 397 \r\nQ 2534 397 2845 478 \r\nQ 3156 559 3463 722 \r\nL 3463 178 \r\nQ 3153 47 2828 -22 \r\nQ 2503 -91 2169 -91 \r\nQ 1331 -91 842 396 \r\nQ 353 884 353 1716 \r\nQ 353 2575 817 3079 \r\nQ 1281 3584 2069 3584 \r\nQ 2775 3584 3186 3129 \r\nQ 3597 2675 3597 1894 \r\nz\r\nM 3022 2063 \r\nQ 3016 2534 2758 2815 \r\nQ 2500 3097 2075 3097 \r\nQ 1594 3097 1305 2825 \r\nQ 1016 2553 972 2059 \r\nL 3022 2063 \r\nz\r\n\" id=\"DejaVuSans-65\" transform=\"scale(0.015625)\"/>\r\n       <path d=\"M 947 1747 \r\nQ 947 1113 1208 752 \r\nQ 1469 391 1925 391 \r\nQ 2381 391 2643 752 \r\nQ 2906 1113 2906 1747 \r\nQ 2906 2381 2643 2742 \r\nQ 2381 3103 1925 3103 \r\nQ 1469 3103 1208 2742 \r\nQ 947 2381 947 1747 \r\nz\r\nM 2906 525 \r\nQ 2725 213 2448 61 \r\nQ 2172 -91 1784 -91 \r\nQ 1150 -91 751 415 \r\nQ 353 922 353 1747 \r\nQ 353 2572 751 3078 \r\nQ 1150 3584 1784 3584 \r\nQ 2172 3584 2448 3432 \r\nQ 2725 3281 2906 2969 \r\nL 2906 3500 \r\nL 3481 3500 \r\nL 3481 -1331 \r\nL 2906 -1331 \r\nL 2906 525 \r\nz\r\n\" id=\"DejaVuSans-71\" transform=\"scale(0.015625)\"/>\r\n       <path d=\"M 544 1381 \r\nL 544 3500 \r\nL 1119 3500 \r\nL 1119 1403 \r\nQ 1119 906 1312 657 \r\nQ 1506 409 1894 409 \r\nQ 2359 409 2629 706 \r\nQ 2900 1003 2900 1516 \r\nL 2900 3500 \r\nL 3475 3500 \r\nL 3475 0 \r\nL 2900 0 \r\nL 2900 538 \r\nQ 2691 219 2414 64 \r\nQ 2138 -91 1772 -91 \r\nQ 1169 -91 856 284 \r\nQ 544 659 544 1381 \r\nz\r\nM 1991 3584 \r\nL 1991 3584 \r\nz\r\n\" id=\"DejaVuSans-75\" transform=\"scale(0.015625)\"/>\r\n       <path d=\"M 3513 2113 \r\nL 3513 0 \r\nL 2938 0 \r\nL 2938 2094 \r\nQ 2938 2591 2744 2837 \r\nQ 2550 3084 2163 3084 \r\nQ 1697 3084 1428 2787 \r\nQ 1159 2491 1159 1978 \r\nL 1159 0 \r\nL 581 0 \r\nL 581 3500 \r\nL 1159 3500 \r\nL 1159 2956 \r\nQ 1366 3272 1645 3428 \r\nQ 1925 3584 2291 3584 \r\nQ 2894 3584 3203 3211 \r\nQ 3513 2838 3513 2113 \r\nz\r\n\" id=\"DejaVuSans-6e\" transform=\"scale(0.015625)\"/>\r\n       <path d=\"M 3122 3366 \r\nL 3122 2828 \r\nQ 2878 2963 2633 3030 \r\nQ 2388 3097 2138 3097 \r\nQ 1578 3097 1268 2742 \r\nQ 959 2388 959 1747 \r\nQ 959 1106 1268 751 \r\nQ 1578 397 2138 397 \r\nQ 2388 397 2633 464 \r\nQ 2878 531 3122 666 \r\nL 3122 134 \r\nQ 2881 22 2623 -34 \r\nQ 2366 -91 2075 -91 \r\nQ 1284 -91 818 406 \r\nQ 353 903 353 1747 \r\nQ 353 2603 823 3093 \r\nQ 1294 3584 2113 3584 \r\nQ 2378 3584 2631 3529 \r\nQ 2884 3475 3122 3366 \r\nz\r\n\" id=\"DejaVuSans-63\" transform=\"scale(0.015625)\"/>\r\n       <path d=\"M 2059 -325 \r\nQ 1816 -950 1584 -1140 \r\nQ 1353 -1331 966 -1331 \r\nL 506 -1331 \r\nL 506 -850 \r\nL 844 -850 \r\nQ 1081 -850 1212 -737 \r\nQ 1344 -625 1503 -206 \r\nL 1606 56 \r\nL 191 3500 \r\nL 800 3500 \r\nL 1894 763 \r\nL 2988 3500 \r\nL 3597 3500 \r\nL 2059 -325 \r\nz\r\n\" id=\"DejaVuSans-79\" transform=\"scale(0.015625)\"/>\r\n      </defs>\r\n      <use xlink:href=\"#DejaVuSans-46\"/>\r\n      <use x=\"50.269531\" xlink:href=\"#DejaVuSans-72\"/>\r\n      <use x=\"89.132812\" xlink:href=\"#DejaVuSans-65\"/>\r\n      <use x=\"150.65625\" xlink:href=\"#DejaVuSans-71\"/>\r\n      <use x=\"214.132812\" xlink:href=\"#DejaVuSans-75\"/>\r\n      <use x=\"277.511719\" xlink:href=\"#DejaVuSans-65\"/>\r\n      <use x=\"339.035156\" xlink:href=\"#DejaVuSans-6e\"/>\r\n      <use x=\"402.414062\" xlink:href=\"#DejaVuSans-63\"/>\r\n      <use x=\"457.394531\" xlink:href=\"#DejaVuSans-79\"/>\r\n     </g>\r\n    </g>\r\n   </g>\r\n   <g id=\"patch_13\">\r\n    <path d=\"M 59.690625 224.64 \r\nL 59.690625 7.2 \r\n\" style=\"fill:none;stroke:#000000;stroke-linecap:square;stroke-linejoin:miter;stroke-width:0.8;\"/>\r\n   </g>\r\n   <g id=\"patch_14\">\r\n    <path d=\"M 394.490625 224.64 \r\nL 394.490625 7.2 \r\n\" style=\"fill:none;stroke:#000000;stroke-linecap:square;stroke-linejoin:miter;stroke-width:0.8;\"/>\r\n   </g>\r\n   <g id=\"patch_15\">\r\n    <path d=\"M 59.690625 224.64 \r\nL 394.490625 224.64 \r\n\" style=\"fill:none;stroke:#000000;stroke-linecap:square;stroke-linejoin:miter;stroke-width:0.8;\"/>\r\n   </g>\r\n   <g id=\"patch_16\">\r\n    <path d=\"M 59.690625 7.2 \r\nL 394.490625 7.2 \r\n\" style=\"fill:none;stroke:#000000;stroke-linecap:square;stroke-linejoin:miter;stroke-width:0.8;\"/>\r\n   </g>\r\n  </g>\r\n </g>\r\n <defs>\r\n  <clipPath id=\"p7c3def29ca\">\r\n   <rect height=\"217.44\" width=\"334.8\" x=\"59.690625\" y=\"7.2\"/>\r\n  </clipPath>\r\n </defs>\r\n</svg>\r\n",
      "image/png": "[encoded data removed]"
     },
     "metadata": {
      "needs_background": "light"
     }
    }
   ],
   "metadata": {}
  },
  {
   "cell_type": "markdown",
   "source": [
    "**Обработка пропусков в данных и скалирование**\r\n",
    "\r\n",
    "Удаление из data и realtest столбцов с количеством пропусков > 50%  \r\n",
    "Удаление из data и realtest строк с количеством пропусков > 50%  \r\n",
    "Замена в data и realtest пропусков средними по полю значениями"
   ],
   "metadata": {}
  },
  {
   "cell_type": "code",
   "execution_count": 26,
   "source": [
    "data_cleaned = data.dropna(thresh=0.5*len(data), axis=1)\r\n",
    "data_cleaned = data_cleaned.dropna(thresh=0.5*len(data_cleaned.columns), axis=0)\r\n",
    "\r\n",
    "cols = data_cleaned.columns[3:-2] # только столбцы-признаки\r\n",
    "\r\n",
    "scaler = MinMaxScaler()\r\n",
    "scaler.fit(data_cleaned[cols])\r\n",
    "\r\n",
    "data_scaled = scaler.transform(data_cleaned[cols])\r\n",
    "data_scaled = pd.DataFrame(data_scaled, columns=cols, index=data_cleaned.index)\r\n",
    "\r\n",
    "realtest_scaled = scaler.transform(realtest[cols])\r\n",
    "realtest_scaled = pd.DataFrame(realtest_scaled, columns=cols)\r\n",
    "\r\n",
    "for col in cols:\r\n",
    "    v = data_scaled[col].mean()\r\n",
    "    data_scaled[col].fillna(v, inplace=True)\r\n",
    "    realtest_scaled[col].fillna(v, inplace=True)\r\n",
    "\r\n",
    "print(f'data: {data.shape[1]} признаков --> data_scaled: {data_scaled.shape[1]} признаков')\r\n",
    "print(f'data: {data.shape[0]} примеров --> data_scaled: {data_scaled.shape[0]} примеров')"
   ],
   "outputs": [
    {
     "output_type": "stream",
     "name": "stdout",
     "text": [
      "data: 1912 признаков --> data_scaled: 416 признаков\n",
      "data: 81617 примеров --> data_scaled: 71089 примеров\n"
     ]
    }
   ],
   "metadata": {}
  },
  {
   "cell_type": "markdown",
   "source": [
    "## Задача классификации\r\n",
    "Целевая переменная - flg_90_12_add (0 - \"не дефолт\", 1 - \"дефолт\")  \r\n",
    "\r\n",
    "Генерация нелинейных признаков  \r\n",
    "Балансировка классов с применением SMOTE  \r\n",
    "Прогнозирование моделью RandomForestClassifier"
   ],
   "metadata": {}
  },
  {
   "cell_type": "markdown",
   "source": [
    "#### Генерация нелинейных признаков  \r\n",
    "Так как все признаки анонимизированы, невозможно сделать предположения о том, какие из них следует  \r\n",
    "использовать для feature engineering. Поэтому выбирается некоторое количество случайных признаков  \r\n",
    "Новые признаки представляют собой произведение i-го и j-го признаков из списка rnd_cols"
   ],
   "metadata": {}
  },
  {
   "cell_type": "code",
   "execution_count": 21,
   "source": [
    "random.seed(42)\r\n",
    "\r\n",
    "flg = data_cleaned['flg_90_12_add'] \r\n",
    "# data_scaled['ERROR'] = data_cleaned['ERROR']\r\n",
    "\r\n",
    "rnd_cols = random.sample(list(cols), 5)\r\n",
    "rnd_cols"
   ],
   "outputs": [
    {
     "output_type": "execute_result",
     "data": {
      "text/plain": [
       "['Feature_1247',\n",
       " 'Feature_38',\n",
       " 'Category_Feature_12',\n",
       " 'Feature_1780',\n",
       " 'Feature_491']"
      ]
     },
     "metadata": {},
     "execution_count": 21
    }
   ],
   "metadata": {}
  },
  {
   "cell_type": "code",
   "execution_count": 24,
   "source": [
    "# Создание новых признаков в data \r\n",
    "\r\n",
    "new_cols = []\r\n",
    "new_cols_name = []\r\n",
    "\r\n",
    "for i in range(len(rnd_cols)):\r\n",
    "    for j in range(i+1, len(rnd_cols)):\r\n",
    "        \r\n",
    "        xixj = str(rnd_cols[i]) + str(rnd_cols[j])\r\n",
    "        new_cols.append(data_scaled[rnd_cols[i]] * data_scaled[rnd_cols[j]])\r\n",
    "        new_cols_name.append(xixj)\r\n",
    "\r\n",
    "new_cols_df = pd.concat(new_cols, axis=1)\r\n",
    "new_cols_df.columns = new_cols_name\r\n",
    "data_scaled_ex = pd.concat([data_scaled, new_cols_df], axis=1)\r\n",
    "\r\n",
    "print(f'data_scaled_ex: {data_scaled_ex.shape[1]} признаков')"
   ],
   "outputs": [
    {
     "output_type": "stream",
     "name": "stdout",
     "text": [
      "data_scaled_ex: 426 признаков\n"
     ]
    }
   ],
   "metadata": {
    "code_folding": []
   }
  },
  {
   "cell_type": "code",
   "execution_count": 28,
   "source": [
    "# Создание новых признаков в realtest\r\n",
    "\r\n",
    "new_cols = []\r\n",
    "new_cols_name = []\r\n",
    "\r\n",
    "for i in range(len(rnd_cols)):\r\n",
    "    for j in range(i+1, len(rnd_cols)):\r\n",
    "        xixj = str(rnd_cols[i]) + str(rnd_cols[j])\r\n",
    "        new_cols.append(realtest_scaled[rnd_cols[i]] * realtest_scaled[rnd_cols[j]])\r\n",
    "        new_cols_name.append(xixj)\r\n",
    "\r\n",
    "new_cols_df = pd.concat(new_cols, axis=1)\r\n",
    "new_cols_df.columns= new_cols_name\r\n",
    "realtest_scaled_ex = pd.concat([realtest_scaled, new_cols_df], axis=1)\r\n",
    "\r\n",
    "print(f'realtest_scaled_ex: {realtest_scaled_ex.shape[1]} признаков')"
   ],
   "outputs": [
    {
     "output_type": "stream",
     "name": "stdout",
     "text": [
      "realtest_scaled_ex: 426 признаков\n"
     ]
    }
   ],
   "metadata": {
    "scrolled": true
   }
  },
  {
   "cell_type": "markdown",
   "source": [
    "#### Разбиение на train/test. Балансировка классов с применением SMOTE"
   ],
   "metadata": {}
  },
  {
   "cell_type": "code",
   "execution_count": 31,
   "source": [
    "X = data_scaled_ex\r\n",
    "Y = data_cleaned['flg_90_12_add']\r\n",
    "\r\n",
    "X_train, X_test, y_train, y_test = train_test_split(X, Y, test_size=0.05, random_state=42)\r\n",
    "\r\n",
    "print(f'train: {X_train.shape[0]} примеров')\r\n",
    "print(f'test: {X_test.shape[0]} примеров')"
   ],
   "outputs": [
    {
     "output_type": "stream",
     "name": "stdout",
     "text": [
      "train: 67534 примеров\n",
      "test: 3555 примеров\n"
     ]
    }
   ],
   "metadata": {}
  },
  {
   "cell_type": "markdown",
   "source": [
    "#### Балансировка классов с применением SMOTE"
   ],
   "metadata": {}
  },
  {
   "cell_type": "code",
   "execution_count": 32,
   "source": [
    "smote = SMOTE(sampling_strategy='auto', k_neighbors=5, random_state=42)\r\n",
    "\r\n",
    "X_train_resampled, y_train_resampled = smote.fit_resample(X_train, y_train)\r\n",
    "\r\n",
    "print(f'train_resampled: {X_train_resampled.shape[0]} примеров')\r\n",
    "\r\n"
   ],
   "outputs": [
    {
     "output_type": "stream",
     "name": "stdout",
     "text": [
      "train_resampled: 128738 примеров\n"
     ]
    }
   ],
   "metadata": {}
  },
  {
   "cell_type": "code",
   "execution_count": 55,
   "source": [
    "# Объемы классов после балансировки\r\n",
    "y_train_resampled.value_counts()"
   ],
   "outputs": [
    {
     "output_type": "execute_result",
     "data": {
      "text/plain": [
       "0.0    64369\n",
       "1.0    64369\n",
       "Name: flg_90_12_add, dtype: int64"
      ]
     },
     "metadata": {},
     "execution_count": 55
    }
   ],
   "metadata": {}
  },
  {
   "cell_type": "markdown",
   "source": [
    "#### Обучение RandomForestClassifier"
   ],
   "metadata": {}
  },
  {
   "cell_type": "code",
   "execution_count": 31,
   "source": [
    "k = 120\r\n",
    "min_samples_leaf = 3\r\n",
    "n_estimators = 50\r\n",
    "\r\n",
    "pipeline = Pipeline([('chi',  SelectKBest(chi2, k=k)),\r\n",
    "                     ('clf', RandomForestClassifier(min_samples_leaf=min_samples_leaf,\r\n",
    "                                                    n_estimators = n_estimators))])\r\n",
    "\r\n",
    "model = pipeline.fit(X_train_resampled, y_train_resampled)"
   ],
   "outputs": [],
   "metadata": {}
  },
  {
   "cell_type": "markdown",
   "source": [
    "#### Оценка качества прогноза"
   ],
   "metadata": {}
  },
  {
   "cell_type": "code",
   "execution_count": 37,
   "source": [
    "y_pred_proba = model.predict_proba(X_test)\r\n",
    "y_pred = model.predict(X_test)\r\n",
    "\r\n",
    "accuracy_score(y_test, y_pred), f1_score(y_test, y_pred), recall_score(y_test, y_pred), precision_score(y_test, y_pred)"
   ],
   "outputs": [
    {
     "output_type": "execute_result",
     "data": {
      "text/plain": [
       "(0.9518987341772152,\n",
       " 0.09523809523809525,\n",
       " 0.05421686746987952,\n",
       " 0.391304347826087)"
      ]
     },
     "metadata": {},
     "execution_count": 37
    }
   ],
   "metadata": {}
  },
  {
   "cell_type": "code",
   "execution_count": 91,
   "source": [
    "for i in range(0, len(y_pred)):\r\n",
    "    if y_pred[i]==1 and y_pred_proba[i][1]>0.7:\r\n",
    "        print(y_pred_proba[i][1], y_pred[i] == np.array(y_test)[i])"
   ],
   "outputs": [
    {
     "output_type": "stream",
     "name": "stdout",
     "text": [
      "0.7045714285714284 True\n",
      "0.7509047619047616 True\n",
      "0.7432597402597402 False\n",
      "0.8344761904761903 True\n",
      "0.8670952380952379 True\n"
     ]
    }
   ],
   "metadata": {}
  },
  {
   "cell_type": "markdown",
   "source": [
    "## Задача регрессии\r\n",
    "\r\n",
    "Целевая переменная - ERROR (ошибка модели банка)"
   ],
   "metadata": {}
  },
  {
   "cell_type": "markdown",
   "source": [
    "#### Разбиение на test/train"
   ],
   "metadata": {}
  },
  {
   "cell_type": "code",
   "execution_count": 44,
   "source": [
    "data_scaled['flg'] = data_cleaned['flg_90_12_add']\r\n",
    "data_scaled['ERROR'] = data_cleaned['ERROR']\r\n",
    "\r\n",
    "train, test = train_test_split(data_scaled, test_size=0.05, random_state=42)\r\n",
    "\r\n",
    "train = train[train['flg']==0] # Обучение только на классе 0\r\n",
    "\r\n",
    "X_train = train[cols]\r\n",
    "X_test = test[cols]\r\n",
    "y_train = train['ERROR']\r\n",
    "y_test = test['ERROR']\r\n",
    "\r\n",
    "# X_train.drop('flg', axis=1, inplace=True)\r\n",
    "# X_test.drop('flg', axis=1, inplace=True)\r\n",
    "\r\n",
    "X_train.shape, X_test.shape"
   ],
   "outputs": [
    {
     "output_type": "execute_result",
     "data": {
      "text/plain": [
       "((64369, 416), (3555, 416))"
      ]
     },
     "metadata": {},
     "execution_count": 44
    }
   ],
   "metadata": {}
  },
  {
   "cell_type": "code",
   "execution_count": 24,
   "source": [
    "min_samples_leaf = 10\r\n",
    "n_estimators = 15\r\n",
    "\r\n",
    "model = RandomForestRegressor(min_samples_leaf=min_samples_leaf, \r\n",
    "                              n_estimators = n_estimators)\r\n",
    "\r\n",
    "model = model.fit(X_train, y_train)\r\n",
    "y_pred = model.predict(X_test)\r\n",
    "\r\n",
    "mae(y_test, y_pred)"
   ],
   "outputs": [
    {
     "output_type": "execute_result",
     "data": {
      "text/plain": [
       "0.05837152817452408"
      ]
     },
     "metadata": {},
     "execution_count": 24
    }
   ],
   "metadata": {}
  },
  {
   "cell_type": "markdown",
   "source": [
    "## Объединение прогнозов"
   ],
   "metadata": {}
  },
  {
   "cell_type": "code",
   "execution_count": 28,
   "source": [
    "error_pred = y_pred"
   ],
   "outputs": [],
   "metadata": {}
  },
  {
   "cell_type": "code",
   "execution_count": 78,
   "source": [
    "# Сабмит\r\n",
    "\r\n",
    "# df = pd.DataFrame({'predict': predict})\r\n",
    "# df.to_csv('subm2.csv', header=False, index=False)\r\n",
    "\r\n",
    "# predict = model.predict(realtest_scaled)\r\n",
    "# predict"
   ],
   "outputs": [
    {
     "output_type": "execute_result",
     "data": {
      "text/plain": [
       "array([0.0159881 , 0.09266114, 0.04786051, 0.11728369, 0.09209037,\n",
       "       0.20325118, 0.08633979, 0.04675244, 0.14910278, 0.03964954,\n",
       "       0.10930699, 0.08024007, 0.10280118, 0.15747415, 0.01902983,\n",
       "       0.03156554, 0.07079532, 0.01654387, 0.01969884, 0.05964564,\n",
       "       0.01176968, 0.01732379, 0.06366084, 0.02767264, 0.14143264,\n",
       "       0.01343902, 0.17217146, 0.03071981, 0.21101838, 0.15684252,\n",
       "       0.07206393, 0.21569843, 0.11027249, 0.0238011 , 0.01638294,\n",
       "       0.04200898, 0.2492471 , 0.02463638, 0.11479311, 0.06249758,\n",
       "       0.08396931, 0.03488316, 0.06489623, 0.01293245, 0.02079792,\n",
       "       0.01331558, 0.02361767, 0.44534355, 0.14820625, 0.06764878,\n",
       "       0.05311853, 0.04996046, 0.05439747, 0.21100259, 0.02634766,\n",
       "       0.06895686, 0.07729938, 0.092236  , 0.05693918, 0.06375597,\n",
       "       0.04531956, 0.09495757, 0.05041863, 0.01420843, 0.05949166,\n",
       "       0.1160523 , 0.13001898, 0.05289264, 0.03446976, 0.03568507,\n",
       "       0.04757946, 0.17401495, 0.13976265, 0.10056091, 0.16199113,\n",
       "       0.11050189, 0.07301986, 0.10825659, 0.04291593, 0.09332699,\n",
       "       0.0485873 , 0.21041583, 0.0807372 , 0.01896256, 0.11055408,\n",
       "       0.01828534, 0.01208629, 0.13220876, 0.27750864, 0.06054229,\n",
       "       0.17674602, 0.02982292, 0.03234719, 0.04786386, 0.02353458,\n",
       "       0.09694364, 0.22636717, 0.04806532, 0.22213886, 0.02211989,\n",
       "       0.01929125, 0.08114055, 0.06600228, 0.1252827 , 0.02214895,\n",
       "       0.17848508, 0.02687452, 0.02430992, 0.17789868, 0.12366491,\n",
       "       0.18909089, 0.02077215, 0.0783383 , 0.02659386, 0.11220591,\n",
       "       0.03783257, 0.03545418, 0.10801248, 0.01784062, 0.20430191,\n",
       "       0.18255653, 0.03456936, 0.01922398, 0.06509431, 0.0915622 ,\n",
       "       0.02268812, 0.02219101, 0.1364218 , 0.21232975, 0.04078816,\n",
       "       0.03562756, 0.04094246, 0.02587741, 0.07617549, 0.13173466,\n",
       "       0.09715812, 0.02004527, 0.03903413, 0.01560303, 0.03841501,\n",
       "       0.0180742 , 0.06129451, 0.07748265, 0.28560298, 0.05859724,\n",
       "       0.12034335, 0.03867991, 0.07571763, 0.01784058, 0.21515602,\n",
       "       0.30819413, 0.10996072, 0.06023187, 0.01363535, 0.26534151,\n",
       "       0.02733879, 0.05434793, 0.02309043, 0.04507491, 0.05104279,\n",
       "       0.0587125 , 0.05302518, 0.24004458, 0.10012304, 0.24760103,\n",
       "       0.06015696, 0.04092415, 0.01809907, 0.07152186, 0.15004412,\n",
       "       0.05965599, 0.01914355, 0.01962041, 0.06779491, 0.02636595,\n",
       "       0.04381337, 0.14743149, 0.04458309, 0.29647489, 0.0685941 ,\n",
       "       0.0928865 , 0.02638192, 0.02051686, 0.03247937, 0.16536354,\n",
       "       0.03856596, 0.15041537, 0.02140915, 0.1793058 , 0.10919684,\n",
       "       0.01528838, 0.02882821, 0.01946198, 0.0748931 , 0.04098194,\n",
       "       0.01805003, 0.32377242, 0.15909893, 0.07924103, 0.11829211,\n",
       "       0.03457126, 0.1251861 , 0.02630923, 0.11543524, 0.23507948,\n",
       "       0.08877295, 0.07524072, 0.45119843, 0.0494371 , 0.03605378,\n",
       "       0.10910808, 0.02848192, 0.04797152, 0.18636118, 0.01835986,\n",
       "       0.02570607, 0.11290447, 0.12989191, 0.02909134, 0.02880096,\n",
       "       0.17080382, 0.02180789, 0.40827415, 0.01233413, 0.27093587,\n",
       "       0.28228302, 0.01347899, 0.02121651, 0.02958913, 0.0166441 ,\n",
       "       0.02832518, 0.03130275, 0.15295263, 0.14700723, 0.13328447,\n",
       "       0.01980566, 0.13806723, 0.04188731, 0.01732334, 0.01526202,\n",
       "       0.0653665 , 0.03323025, 0.0745832 , 0.14466273, 0.0157599 ,\n",
       "       0.01784204, 0.08739347, 0.03425677, 0.11366406, 0.01585276,\n",
       "       0.08638741, 0.25583701, 0.07097937, 0.01707989, 0.09489127,\n",
       "       0.21182506, 0.06685327, 0.18304418, 0.06649274, 0.05904446,\n",
       "       0.06931788, 0.01763778, 0.23367822, 0.08606328, 0.02852977,\n",
       "       0.15622476, 0.22501561, 0.01977494, 0.01568759, 0.22190927,\n",
       "       0.13968586, 0.08357251, 0.04308547, 0.08391918, 0.25301049,\n",
       "       0.03235369, 0.03120032, 0.06478721, 0.12462063, 0.05514904,\n",
       "       0.02461611, 0.03000398, 0.14296122, 0.04195759, 0.08791237,\n",
       "       0.01565174, 0.02452937, 0.20969283, 0.05787473, 0.26954964,\n",
       "       0.07264418, 0.26592377, 0.02765565, 0.04720052, 0.12947642,\n",
       "       0.06006988, 0.02461941, 0.04411568, 0.29375911, 0.06785035,\n",
       "       0.05502477, 0.12343017, 0.03975328, 0.17973826, 0.01861848,\n",
       "       0.09033945, 0.0673293 , 0.24123347, 0.0367577 , 0.05425171,\n",
       "       0.04282139, 0.06141082, 0.29655773, 0.03576854, 0.2575594 ,\n",
       "       0.06452897, 0.01469245, 0.15136464, 0.09404775, 0.02057448,\n",
       "       0.39695571, 0.17244885, 0.24646074, 0.05404108, 0.29459368,\n",
       "       0.04489441, 0.02176131, 0.11601332, 0.06408944, 0.06262663,\n",
       "       0.20629824, 0.07011032, 0.08117935, 0.05058573, 0.04365652,\n",
       "       0.0489166 , 0.12475727, 0.1097993 , 0.03345926, 0.12447133,\n",
       "       0.04061157, 0.02063391, 0.01598857, 0.07991349, 0.05655943,\n",
       "       0.0265004 , 0.0873281 , 0.02191315, 0.16617902, 0.06164571,\n",
       "       0.26036198, 0.04700832, 0.0299699 , 0.10397497, 0.15032314,\n",
       "       0.10491991, 0.02157283, 0.04641477, 0.05920042, 0.05307678,\n",
       "       0.13253379, 0.122633  , 0.06894008, 0.18182189, 0.05208984,\n",
       "       0.10113567, 0.12386611, 0.06148861, 0.04715481, 0.11330713,\n",
       "       0.06867345, 0.07938823, 0.0215787 , 0.02378817, 0.20043134,\n",
       "       0.05059799, 0.12390007, 0.02187767, 0.02736866, 0.0360014 ,\n",
       "       0.14125809, 0.02949455, 0.01738224, 0.0601409 , 0.07413732,\n",
       "       0.12845071, 0.06747375, 0.16132031, 0.04900696, 0.08211612,\n",
       "       0.05853853, 0.08747387, 0.07404177, 0.04245434, 0.1379153 ,\n",
       "       0.13641624, 0.02418697, 0.09632815, 0.01754764, 0.18510042,\n",
       "       0.20751074, 0.06288227, 0.02166224, 0.06037281, 0.0613458 ,\n",
       "       0.08463131, 0.20576172, 0.08480899, 0.04006273, 0.04136053,\n",
       "       0.13543302, 0.01219923, 0.04155248, 0.03608857, 0.16379933,\n",
       "       0.02113   , 0.07696977, 0.1381736 , 0.2701864 , 0.0250357 ,\n",
       "       0.07858643, 0.22276661, 0.0712517 , 0.0514472 , 0.24595042,\n",
       "       0.01469065, 0.09390286, 0.03321381, 0.23837382, 0.18529906,\n",
       "       0.03615703, 0.10510952, 0.09364095, 0.02682375, 0.01673663,\n",
       "       0.01583886, 0.20463519, 0.01707024, 0.13381567, 0.05211207,\n",
       "       0.08761826, 0.04483838, 0.03828827, 0.18314835, 0.03727787,\n",
       "       0.12975493, 0.1177497 , 0.02638909, 0.01446593, 0.07645011,\n",
       "       0.03934206, 0.06428607, 0.06051991, 0.02382503, 0.04817128,\n",
       "       0.15292822, 0.10912279, 0.01669428, 0.20202079, 0.0856356 ,\n",
       "       0.0278888 , 0.03251453, 0.03277401, 0.13512468, 0.05092013,\n",
       "       0.02240104, 0.04071328, 0.01560183, 0.06856479, 0.0492485 ,\n",
       "       0.0601693 , 0.06604893, 0.03289205, 0.26082038, 0.06246382,\n",
       "       0.07807516, 0.39672659, 0.01977744, 0.16205423, 0.05309751,\n",
       "       0.31594238, 0.03102519, 0.19795312, 0.1031735 , 0.03100024,\n",
       "       0.14049514, 0.30535881, 0.08383945, 0.10739194, 0.2420816 ,\n",
       "       0.13417501, 0.01463844, 0.09207809, 0.02910445, 0.03455793,\n",
       "       0.01623452, 0.03019429, 0.01609591, 0.07209433, 0.0378448 ,\n",
       "       0.02053946, 0.03965702, 0.03673327, 0.11801872, 0.09214635,\n",
       "       0.03920648, 0.23483541, 0.01268749, 0.01594045, 0.13446995,\n",
       "       0.48581186, 0.03795175, 0.14761577, 0.02996424, 0.01768887,\n",
       "       0.02938716, 0.171175  , 0.28449814, 0.13541435, 0.03967298,\n",
       "       0.11322829, 0.31092727, 0.03543079, 0.0301806 , 0.0223816 ,\n",
       "       0.05058109, 0.18671866, 0.14699879, 0.03832585, 0.02443177,\n",
       "       0.12398704, 0.16695138, 0.03215056, 0.0935285 , 0.0209322 ,\n",
       "       0.13150263, 0.2334212 , 0.03507472, 0.01488019, 0.25539385,\n",
       "       0.04764857, 0.0616968 , 0.05365101, 0.1562969 , 0.15342005,\n",
       "       0.17442714, 0.04002598, 0.10426656, 0.0414028 , 0.10447588,\n",
       "       0.30709654, 0.02332164, 0.20807424, 0.22299873, 0.22952721,\n",
       "       0.04152676, 0.12026913, 0.01822466, 0.04984301, 0.04308011,\n",
       "       0.0490557 , 0.01332321, 0.11678563, 0.03466708, 0.01765338,\n",
       "       0.0229128 , 0.1089362 , 0.01854091, 0.08909135, 0.013401  ,\n",
       "       0.01152922, 0.04309923, 0.15061435, 0.10446355, 0.01378346,\n",
       "       0.41838606, 0.04723964, 0.16093913, 0.06104903, 0.20445437,\n",
       "       0.03759096, 0.19452497, 0.05336165, 0.08299321, 0.01395895,\n",
       "       0.06948419, 0.13220931, 0.05004347, 0.07766894, 0.04473327,\n",
       "       0.20254821, 0.06757101, 0.01923519, 0.23036971, 0.01813667,\n",
       "       0.03087668, 0.02091851, 0.02100264, 0.0376325 , 0.0595058 ,\n",
       "       0.03586717, 0.07698419, 0.02328219, 0.18761156, 0.02673182,\n",
       "       0.05043039, 0.16513086, 0.0477124 , 0.03654288, 0.02976189,\n",
       "       0.08513269, 0.02509846, 0.06789385, 0.02067005, 0.05890607,\n",
       "       0.01427307, 0.13150768, 0.08722063, 0.03572645, 0.24907663,\n",
       "       0.19449946, 0.038827  , 0.0207844 , 0.02693154, 0.11186368,\n",
       "       0.03775442, 0.09925577, 0.06756541, 0.02272834, 0.03245147,\n",
       "       0.01427281, 0.03531923, 0.14149467, 0.02969923, 0.02961703,\n",
       "       0.06457393, 0.04423309, 0.03688987, 0.22067633, 0.156709  ,\n",
       "       0.04088662, 0.05571755, 0.01849473, 0.10791646, 0.03217895,\n",
       "       0.01650127, 0.12347146, 0.05638935, 0.12275518, 0.07796846,\n",
       "       0.01194729, 0.20686111, 0.07411135, 0.01375361, 0.2492555 ,\n",
       "       0.09597107, 0.15047377, 0.01651507, 0.02160099, 0.04464421,\n",
       "       0.03848042, 0.20704158, 0.34603136, 0.07128341, 0.11100687,\n",
       "       0.09034715, 0.08597862, 0.01781775, 0.02637495, 0.23643212,\n",
       "       0.05204004, 0.20505879, 0.11799163, 0.27847199, 0.25637124,\n",
       "       0.02331053, 0.07083289, 0.03640229, 0.03392585, 0.03158393,\n",
       "       0.09376621, 0.03519852, 0.01602406, 0.01690104, 0.02054828,\n",
       "       0.022389  , 0.06542777, 0.02602838, 0.01348727, 0.01428997,\n",
       "       0.02703511, 0.15200419, 0.1187796 , 0.04741349, 0.03383426,\n",
       "       0.13394241, 0.13322464, 0.09646958, 0.05738857, 0.01861389,\n",
       "       0.02971767, 0.30060782, 0.02071682, 0.11229765, 0.0787407 ,\n",
       "       0.03712715, 0.03303815, 0.22215584, 0.03001659, 0.18738809,\n",
       "       0.1842475 , 0.19379613, 0.28206012, 0.11570746, 0.02656485,\n",
       "       0.0318416 , 0.06899114, 0.17975247, 0.03601837, 0.40718422,\n",
       "       0.01598879, 0.18466706, 0.0307089 , 0.05191248, 0.25502669,\n",
       "       0.02070579, 0.09304022, 0.10509272, 0.03082122, 0.06061123,\n",
       "       0.02107957, 0.04201384, 0.02940425, 0.03966068, 0.13500426,\n",
       "       0.25956903, 0.0217258 , 0.08525377, 0.03136739, 0.2261943 ,\n",
       "       0.03108375, 0.04305894, 0.04144239, 0.02936211, 0.09202795,\n",
       "       0.08575403, 0.25348821, 0.19631032, 0.01943144, 0.01703818,\n",
       "       0.04490015, 0.0249912 , 0.0574259 , 0.05511137, 0.02406572,\n",
       "       0.02058138, 0.03010099, 0.01422244, 0.21475794, 0.043145  ,\n",
       "       0.07673813, 0.1695206 , 0.08534799, 0.02011342, 0.01944852,\n",
       "       0.06751939, 0.0398546 , 0.08631199, 0.03088296, 0.0635826 ,\n",
       "       0.03743582, 0.27328278, 0.25038436, 0.03579126, 0.0238309 ,\n",
       "       0.02728029, 0.02083562, 0.03180908, 0.04096909, 0.12701398,\n",
       "       0.01356811, 0.02188158, 0.16374492, 0.02108641, 0.01757093,\n",
       "       0.0705307 , 0.0356605 , 0.02476441, 0.02136398, 0.07659088,\n",
       "       0.13169954, 0.05574165, 0.0151569 , 0.05569397, 0.14845029,\n",
       "       0.10298224, 0.10349471, 0.15034458, 0.01665379, 0.1242766 ,\n",
       "       0.15379524, 0.03287742, 0.11923052, 0.08976138, 0.0597826 ,\n",
       "       0.06368518, 0.0243998 , 0.04645157, 0.0506216 , 0.33436552,\n",
       "       0.08693885, 0.03250476, 0.12854021, 0.02573902, 0.16442197,\n",
       "       0.12694396, 0.0680595 , 0.13181947, 0.0204258 , 0.12877095,\n",
       "       0.06454133, 0.12312535, 0.01555832, 0.08398744, 0.02086117,\n",
       "       0.07803367, 0.03693817, 0.01492013, 0.10556313, 0.05227475,\n",
       "       0.02053236, 0.04604631, 0.02781196, 0.14297332, 0.03592782,\n",
       "       0.0792427 , 0.1019208 , 0.02369014, 0.20588994, 0.08044477,\n",
       "       0.11498743, 0.02055519, 0.01405341, 0.15399564, 0.07293514,\n",
       "       0.07470269, 0.03954922, 0.10055056, 0.10183168, 0.06577542,\n",
       "       0.30762688, 0.06194768, 0.10315169, 0.28471003, 0.16070603,\n",
       "       0.02044541, 0.12822989, 0.10599451, 0.0383586 , 0.05734622,\n",
       "       0.07586541, 0.13240861, 0.06476984, 0.10831417, 0.07916877,\n",
       "       0.10643864, 0.08807797, 0.01746472, 0.10969425, 0.03441803,\n",
       "       0.02159196, 0.01490413, 0.15121132, 0.01700615, 0.02286758,\n",
       "       0.0259291 , 0.18689484, 0.05840716, 0.02805631, 0.03031306,\n",
       "       0.14635597, 0.16663574, 0.05183434, 0.02514356, 0.01724657,\n",
       "       0.01906405, 0.03675625, 0.04158795, 0.05761936, 0.13073001,\n",
       "       0.09081748, 0.15386615, 0.07650819, 0.11130361, 0.0273291 ,\n",
       "       0.09863013, 0.06739892, 0.03284828, 0.10478257, 0.22848118,\n",
       "       0.21371386, 0.04315009, 0.02650012, 0.04828155, 0.07495857,\n",
       "       0.01673977, 0.12711326, 0.01793278, 0.05108117, 0.19335739,\n",
       "       0.09882296, 0.23919575, 0.22225184, 0.13209581, 0.05673682,\n",
       "       0.02754771, 0.12976383, 0.18798531, 0.02586245, 0.0764649 ,\n",
       "       0.08085678, 0.07643107, 0.02801644, 0.3280952 , 0.02817487,\n",
       "       0.14765809, 0.1819723 , 0.01303106, 0.07004124, 0.03656836,\n",
       "       0.06599081, 0.0259085 , 0.04395668, 0.02735951, 0.17282699,\n",
       "       0.04936529, 0.01636421, 0.09522921, 0.14437697, 0.06590747,\n",
       "       0.05268852, 0.18452454, 0.02412716, 0.15750108, 0.06372238,\n",
       "       0.11839534, 0.02124839, 0.06082591, 0.16971259, 0.05048357,\n",
       "       0.0399088 , 0.01707321, 0.05791029, 0.04877064, 0.02024825,\n",
       "       0.06571678, 0.13481891, 0.03076338, 0.02067501, 0.1388135 ,\n",
       "       0.0500113 , 0.10543192, 0.02355113, 0.02631729, 0.02408155,\n",
       "       0.03186711, 0.04677869, 0.14014473, 0.05122104, 0.2663945 ,\n",
       "       0.05491144, 0.06544677, 0.02912778, 0.20794039, 0.0365188 ,\n",
       "       0.36346288, 0.18022822, 0.04212773, 0.27759454, 0.09090706,\n",
       "       0.08648051, 0.05294825, 0.11294606, 0.10383851, 0.09473132,\n",
       "       0.06527743, 0.0174621 , 0.06135713, 0.01887532, 0.12813507,\n",
       "       0.19417848, 0.09645861, 0.02049779, 0.01764753, 0.09177407,\n",
       "       0.0942453 , 0.032552  , 0.08478293, 0.01902151, 0.01864111])"
      ]
     },
     "metadata": {},
     "execution_count": 78
    }
   ],
   "metadata": {}
  },
  {
   "cell_type": "code",
   "execution_count": 39,
   "source": [
    "error_pred"
   ],
   "outputs": [
    {
     "output_type": "execute_result",
     "data": {
      "text/plain": [
       "array([0.02012371, 0.0211227 , 0.09648843, ..., 0.01833095, 0.02291858,\n",
       "       0.06771428])"
      ]
     },
     "metadata": {},
     "execution_count": 39
    }
   ],
   "metadata": {}
  },
  {
   "cell_type": "code",
   "execution_count": 38,
   "source": [
    "y_pred_proba"
   ],
   "outputs": [
    {
     "output_type": "execute_result",
     "data": {
      "text/plain": [
       "array([[1.        , 0.        ],\n",
       "       [1.        , 0.        ],\n",
       "       [0.94968254, 0.05031746],\n",
       "       ...,\n",
       "       [0.984     , 0.016     ],\n",
       "       [0.92717172, 0.07282828],\n",
       "       [0.83610317, 0.16389683]])"
      ]
     },
     "metadata": {},
     "execution_count": 38
    }
   ],
   "metadata": {}
  },
  {
   "cell_type": "code",
   "execution_count": 64,
   "source": [
    "predict_combine = []\r\n",
    "\r\n",
    "for i in range(len(error_pred)):\r\n",
    "    if y_pred_proba[i][1] > 0.7:\r\n",
    "        predict_combine.append(0.8)\r\n",
    "        print(y_pred_proba[i][1])\r\n",
    "    else: predict_combine.append(error_pred[i])"
   ],
   "outputs": [
    {
     "output_type": "stream",
     "name": "stdout",
     "text": [
      "0.7234999999999999\n",
      "0.841547619047619\n",
      "0.7271190476190477\n",
      "0.7245238095238095\n"
     ]
    }
   ],
   "metadata": {}
  },
  {
   "cell_type": "code",
   "execution_count": 65,
   "source": [
    "mae(y_test, predict_combine)"
   ],
   "outputs": [
    {
     "output_type": "execute_result",
     "data": {
      "text/plain": [
       "0.05765522486888258"
      ]
     },
     "metadata": {},
     "execution_count": 65
    }
   ],
   "metadata": {}
  },
  {
   "cell_type": "code",
   "execution_count": null,
   "source": [],
   "outputs": [],
   "metadata": {}
  }
 ],
 "metadata": {
  "kernelspec": {
   "name": "python3",
   "display_name": "Python 3.8.10 64-bit"
  },
  "language_info": {
   "codemirror_mode": {
    "name": "ipython",
    "version": 3
   },
   "file_extension": ".py",
   "mimetype": "text/x-python",
   "name": "python",
   "nbconvert_exporter": "python",
   "pygments_lexer": "ipython3",
   "version": "3.8.10"
  },
  "interpreter": {
   "hash": "0ff1e1fc79923b7048a1b0a049e1f8c29b7247f7ffa1cbd35692250f92a41541"
  }
 },
 "nbformat": 4,
 "nbformat_minor": 5
}